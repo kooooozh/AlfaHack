{
 "cells": [
  {
   "cell_type": "code",
   "execution_count": 46,
   "id": "ee1eb46f",
   "metadata": {},
   "outputs": [],
   "source": [
    "from catboost import CatBoostClassifier, Pool\n",
    "import pandas as pd\n",
    "import os\n",
    "from sklearn.ensemble import HistGradientBoostingClassifier\n",
    "from sklearn.model_selection import train_test_split, StratifiedKFold, cross_val_score, TimeSeriesSplit\n",
    "from sklearn.metrics import roc_auc_score\n",
    "import pandas as pd\n",
    "import numpy as np\n",
    "import glob\n",
    "import os\n",
    "from sklearn.feature_selection import SelectFromModel\n",
    "from sklearn.ensemble import GradientBoostingClassifier\n",
    "import lightgbm as lgb\n",
    "import optuna"
   ]
  },
  {
   "cell_type": "code",
   "execution_count": 47,
   "id": "5f32c7c7",
   "metadata": {},
   "outputs": [],
   "source": [
    "# Функция для обучения на 1 наборе данных\n",
    "def fitting(path):\n",
    "    try:\n",
    "        # Получим список файлов по выданному пути к папке\n",
    "        current_data = os.listdir(path)\n",
    "    # В случае ошибки отловим ее и прервем выполнение цикла\n",
    "    except Exception:\n",
    "        return \"Не папка\"\n",
    "    # В случае отсутствия ошибки - сохраним данные\n",
    "    else:\n",
    "        current_data = os.listdir(path)\n",
    "    # Выделим тренировочный датасет\n",
    "    train_data = [data for data in current_data if data.endswith('train.parquet')][0]\n",
    "    # Выделим тестовый датасет\n",
    "    test_data = [data for data in current_data if data.endswith('test.parquet')][0]\n",
    "    # Откроем тренировочные данные\n",
    "    print(\"reading data\", path)\n",
    "    train_data = pd.read_parquet(path + f'/{train_data}')\n",
    "    # train_data = train_data.iloc[:3000]\n",
    "    # Откроем тестовые данные\n",
    "    test_data = pd.read_parquet(path + f'/{test_data}')\n",
    "    # test_data = test_data.iloc[:3000]\n",
    "\n",
    "    # ----------------------------------------------\n",
    "    # Разделение на признаки и целевую переменную\n",
    "    X = train_data.drop(columns=['target', 'id', 'smpl'])\n",
    "    y = train_data['target']\n",
    "\n",
    "    # Отбор важных признаков с использованием GradientBoostingClassifier\n",
    "    model = lgb.LGBMClassifier(random_state=10, n_jobs=16, verbose=-1)\n",
    "    model.fit(X, y)\n",
    "\n",
    "    # Селектор фич, у которых importance выше среднего значения\n",
    "    selector = SelectFromModel(model, threshold=\"mean\", prefit=True)\n",
    "    X_selected = selector.transform(X)\n",
    "\n",
    "    print(\"Количество выбранных признаков:\", X_selected.shape[1])\n",
    "\n",
    "    # Применение селектора к тестовому набору данных\n",
    "    X_test = test_data.drop(columns=['id', 'smpl'])\n",
    "    X_test_selected = selector.transform(X_test)\n",
    "\n",
    "    # Находим выбранные признаки\n",
    "    # Получаем маску выбранных признаков из селектора\n",
    "    selected_features_mask = selector.get_support()\n",
    "\n",
    "    # Извлекаем названия выбранных признаков, используя маску\n",
    "    im_f = X.columns[selected_features_mask]\n",
    "    im_f = im_f.tolist()\n",
    "\n",
    "    print(\"Выбранные признаки:\", im_f)\n",
    "\n",
    "    X_selected = train_data[im_f].copy()\n",
    "    X_test_selected = test_data[im_f].copy()\n",
    "    y = train_data['target']\n",
    "\n",
    "    # Обучаем LightGBM с кросс-валидацией на выбранных признаках\n",
    "    lgb_model = lgb.LGBMClassifier(verbose=-1)\n",
    "    skf = StratifiedKFold(n_splits=7, shuffle=True, random_state=10)  # стратификация по таргету\n",
    "    scores = cross_val_score(lgb_model, X_selected, y, cv=skf, scoring='roc_auc')\n",
    "    print(\"ROC-AUC на LightGBM с кросс-валидацией:\", scores.mean())\n",
    "    \n",
    "    # Определяем функцию для оптимизации гиперпараметров\n",
    "    def objective(trial):\n",
    "        param = {\n",
    "            'learning_rate': trial.suggest_float('learning_rate', 0.001, 0.15),\n",
    "            'max_depth': trial.suggest_int('max_depth', 3, 13),\n",
    "            'num_leaves': trial.suggest_int('num_leaves', 50, 1000),\n",
    "            'n_estimators': trial.suggest_int('n_estimators', 200, 700),\n",
    "            'min_child_samples': trial.suggest_int('min_child_samples', 10, 90),\n",
    "            'subsample': trial.suggest_float('subsample', 0.5, 1.0),\n",
    "            'colsample_bytree': trial.suggest_float('colsample_bytree', 0.5, 1.0),\n",
    "            'lambda_l1': trial.suggest_float('lambda_l1', 1e-6, 1.0, log = True),\n",
    "            'lambda_l2': trial.suggest_float('lambda_l2', 1e-6, 1.0, log = True),\n",
    "        }\n",
    "        model = lgb.LGBMClassifier(**param, verbose=-1, n_jobs=16)\n",
    "        scores = cross_val_score(model, X_selected, y, cv=skf, scoring='roc_auc')\n",
    "        return scores.mean()\n",
    "\n",
    "    # Запускаем Optuna для оптимизации\n",
    "    study = optuna.create_study(direction=\"maximize\")\n",
    "    # Warm-start\n",
    "    warm_start_small = {\n",
    "        'learning_rate': 0.01290806719885743, \n",
    "        'max_depth': 3, \n",
    "        'num_leaves': 156, \n",
    "        'n_estimators': 500, \n",
    "        'min_child_samples': 32, \n",
    "        'subsample': 0.9052108095701373, \n",
    "        'colsample_bytree': 0.9153415375057271, \n",
    "        'lambda_l1': 0.5216384377631789, \n",
    "        'lambda_l2': 0.5141215730887658,\n",
    "    }\n",
    "    \n",
    "    warm_start_large = {\n",
    "        'learning_rate': 0.005, \n",
    "        'max_depth': -1, \n",
    "        'num_leaves': 512, \n",
    "        'n_estimators': 450, \n",
    "        'min_child_samples': 32, \n",
    "        'subsample': 0.7, \n",
    "        'colsample_bytree': 0.7, \n",
    "        'lambda_l1': 1, \n",
    "        'lambda_l2': 1,\n",
    "    }\n",
    "    \n",
    "    warm_start_middle = {\n",
    "        'learning_rate': 0.04, \n",
    "        'max_depth': -1, \n",
    "        'num_leaves': 128, \n",
    "        'n_estimators': 400, \n",
    "        'min_child_samples': 20, \n",
    "        'subsample': 0.65, \n",
    "        'colsample_bytree': 0.9, \n",
    "        'lambda_l1': 1, \n",
    "        'lambda_l2': 0,\n",
    "    }\n",
    "    \n",
    "    num_rows = train_data.shape[0]\n",
    "    num_iterations = 50\n",
    "    warm_start = {}\n",
    "    if num_rows < 70000:\n",
    "        num_iterations = 30\n",
    "        warm_start = warm_start_small\n",
    "    elif num_rows < 300000:\n",
    "        num_iterations = 20\n",
    "        warm_start = warm_start_middle\n",
    "    else:\n",
    "        num_iterations = 10\n",
    "        warm_start = warm_start_large\n",
    "        \n",
    "    \n",
    "    study.enqueue_trial({**warm_start})\n",
    "    study.optimize(objective, n_trials=num_iterations, timeout=1200)\n",
    "\n",
    "    # Получаем лучшие параметры\n",
    "    best_params = study.best_params\n",
    "    print(\"Лучшие параметры:\", best_params)\n",
    "\n",
    "    # Финальное обучение модели с лучшими параметрами\n",
    "    final_model = lgb.LGBMClassifier(**best_params, n_jobs=16, verbose = -1)\n",
    "    final_model.fit(X_selected, y)\n",
    "\n",
    "    # Предсказания для тестовых данных\n",
    "    y_test_pred = final_model.predict_proba(X_test_selected)[:, 1]\n",
    "    \n",
    "    # ---------------------------------------\n",
    "    # Объединим предсказание с метками\n",
    "    test_data['target'] = y_test_pred\n",
    "    # Отсортируем предсказание\n",
    "    prediction = test_data[['id', 'target']].sort_values(by='id', ascending=True)\n",
    "    # Вернем предсказание, как результат работы модели\n",
    "    return prediction"
   ]
  },
  {
   "cell_type": "code",
   "execution_count": 48,
   "id": "a341d4c6",
   "metadata": {},
   "outputs": [],
   "source": [
    "# Функция смотрит на рабочее окружение и на папки с данными\n",
    "def model():\n",
    "    # Пропишем путь к файлам данных\n",
    "    data = 'data'\n",
    "    # Запишем список датасетов в папке:\n",
    "    folders = os.listdir(data)\n",
    "    # Создадим цикл для прохождения по каждому файлу и генерации предсказания\n",
    "    for fold in folders:\n",
    "        print(\"Training on\", fold)\n",
    "        # Запишем новый путь к данным\n",
    "        data_path = data + f'/{fold}'\n",
    "        # Вызовем функцию, передав в нее путь к папке для обучения\n",
    "        prediction = fitting(path=data_path)\n",
    "        # Сохраним полученное предсказание\n",
    "        if type(prediction) is not str:\n",
    "            # Сохраняем предсказание\n",
    "            prediction.to_csv(f\"predictions/{fold}.csv\", index=False)\n",
    "            print(\"Предсказание создано!\")\n",
    "        else:\n",
    "            print(\"Невозможно создать предсказание!\")\n",
    "    \n",
    "    '''print(\"Training on pd_ul_9\")\n",
    "    # Запишем новый путь к данным\n",
    "    data_path = r\"C:\\Users\\79168\\Desktop\\FINAL\\pd_ul_9\"\n",
    "    # Вызовем функцию, передав в нее путь к папке для обучения\n",
    "    prediction = fitting(path=data_path)\n",
    "    # Сохраним полученное предсказание\n",
    "    if type(prediction) is not str:\n",
    "        # Сохраняем предсказание\n",
    "        prediction.to_csv(r\"C:\\Users\\79168\\Desktop\\FINAL\\predictions\\pd_ul_9.csv\", index=False)\n",
    "        print(\"Предсказание создано!\")\n",
    "    else:\n",
    "        print(\"Невозможно создать предсказание!\")'''"
   ]
  },
  {
   "cell_type": "code",
   "execution_count": 49,
   "id": "f1b7fe5a",
   "metadata": {},
   "outputs": [
    {
     "name": "stdout",
     "output_type": "stream",
     "text": [
      "Training on pd_ul_9\n",
      "reading data C:\\Users\\79168\\Desktop\\FINAL\\pd_ul_9\n"
     ]
    },
    {
     "name": "stderr",
     "output_type": "stream",
     "text": [
      "C:\\Users\\79168\\AppData\\Local\\Programs\\Python\\Python311\\Lib\\site-packages\\sklearn\\base.py:486: UserWarning: X has feature names, but SelectFromModel was fitted without feature names\n",
      "  warnings.warn(\n",
      "C:\\Users\\79168\\AppData\\Local\\Programs\\Python\\Python311\\Lib\\site-packages\\sklearn\\base.py:486: UserWarning: X has feature names, but SelectFromModel was fitted without feature names\n",
      "  warnings.warn(\n"
     ]
    },
    {
     "name": "stdout",
     "output_type": "stream",
     "text": [
      "Количество выбранных признаков: 109\n",
      "Выбранные признаки: ['feature_1', 'feature_2', 'feature_4', 'feature_6', 'feature_8', 'feature_13', 'feature_18', 'feature_22', 'feature_27', 'feature_31', 'feature_32', 'feature_33', 'feature_34', 'feature_35', 'feature_36', 'feature_39', 'feature_47', 'feature_50', 'feature_51', 'feature_53', 'feature_56', 'feature_57', 'feature_67', 'feature_72', 'feature_74', 'feature_75', 'feature_78', 'feature_86', 'feature_87', 'feature_90', 'feature_93', 'feature_99', 'feature_102', 'feature_111', 'feature_114', 'feature_115', 'feature_118', 'feature_123', 'feature_125', 'feature_129', 'feature_130', 'feature_132', 'feature_140', 'feature_143', 'feature_144', 'feature_146', 'feature_149', 'feature_150', 'feature_154', 'feature_156', 'feature_158', 'feature_167', 'feature_169', 'feature_173', 'feature_177', 'feature_178', 'feature_182', 'feature_183', 'feature_184', 'feature_186', 'feature_188', 'feature_192', 'feature_194', 'feature_207', 'feature_208', 'feature_209', 'feature_212', 'feature_214', 'feature_219', 'feature_225', 'feature_226', 'feature_235', 'feature_237', 'feature_246', 'feature_251', 'feature_252', 'feature_256', 'feature_258', 'feature_268', 'feature_275', 'feature_281', 'feature_284', 'feature_286', 'feature_295', 'feature_299', 'feature_303', 'feature_306', 'feature_307', 'feature_308', 'feature_313', 'feature_318', 'feature_319', 'feature_321', 'feature_325', 'feature_331', 'feature_344', 'feature_354', 'feature_356', 'feature_360', 'feature_362', 'feature_363', 'feature_369', 'feature_373', 'feature_374', 'feature_378', 'feature_381', 'feature_391', 'feature_413', 'feature_417']\n"
     ]
    },
    {
     "name": "stderr",
     "output_type": "stream",
     "text": [
      "[I 2024-12-07 18:37:23,087] A new study created in memory with name: no-name-4704d372-c210-4104-a12e-c595b0e6b0a8\n"
     ]
    },
    {
     "name": "stdout",
     "output_type": "stream",
     "text": [
      "ROC-AUC на LightGBM с кросс-валидацией: 0.7103090438053156\n",
      "[LightGBM] [Warning] lambda_l1 is set=0.5216384377631789, reg_alpha=0.0 will be ignored. Current value: lambda_l1=0.5216384377631789\n",
      "[LightGBM] [Warning] lambda_l2 is set=0.5141215730887658, reg_lambda=0.0 will be ignored. Current value: lambda_l2=0.5141215730887658\n",
      "[LightGBM] [Warning] lambda_l1 is set=0.5216384377631789, reg_alpha=0.0 will be ignored. Current value: lambda_l1=0.5216384377631789\n",
      "[LightGBM] [Warning] lambda_l2 is set=0.5141215730887658, reg_lambda=0.0 will be ignored. Current value: lambda_l2=0.5141215730887658\n",
      "[LightGBM] [Warning] lambda_l1 is set=0.5216384377631789, reg_alpha=0.0 will be ignored. Current value: lambda_l1=0.5216384377631789\n",
      "[LightGBM] [Warning] lambda_l2 is set=0.5141215730887658, reg_lambda=0.0 will be ignored. Current value: lambda_l2=0.5141215730887658\n",
      "[LightGBM] [Warning] lambda_l1 is set=0.5216384377631789, reg_alpha=0.0 will be ignored. Current value: lambda_l1=0.5216384377631789\n",
      "[LightGBM] [Warning] lambda_l2 is set=0.5141215730887658, reg_lambda=0.0 will be ignored. Current value: lambda_l2=0.5141215730887658\n",
      "[LightGBM] [Warning] lambda_l1 is set=0.5216384377631789, reg_alpha=0.0 will be ignored. Current value: lambda_l1=0.5216384377631789\n",
      "[LightGBM] [Warning] lambda_l2 is set=0.5141215730887658, reg_lambda=0.0 will be ignored. Current value: lambda_l2=0.5141215730887658\n",
      "[LightGBM] [Warning] lambda_l1 is set=0.5216384377631789, reg_alpha=0.0 will be ignored. Current value: lambda_l1=0.5216384377631789\n",
      "[LightGBM] [Warning] lambda_l2 is set=0.5141215730887658, reg_lambda=0.0 will be ignored. Current value: lambda_l2=0.5141215730887658\n",
      "[LightGBM] [Warning] lambda_l1 is set=0.5216384377631789, reg_alpha=0.0 will be ignored. Current value: lambda_l1=0.5216384377631789\n",
      "[LightGBM] [Warning] lambda_l2 is set=0.5141215730887658, reg_lambda=0.0 will be ignored. Current value: lambda_l2=0.5141215730887658\n"
     ]
    },
    {
     "name": "stderr",
     "output_type": "stream",
     "text": [
      "[I 2024-12-07 18:37:27,229] Trial 0 finished with value: 0.7428119041043647 and parameters: {'learning_rate': 0.01290806719885743, 'max_depth': 3, 'num_leaves': 156, 'n_estimators': 500, 'min_child_samples': 32, 'subsample': 0.9052108095701373, 'colsample_bytree': 0.9153415375057271, 'lambda_l1': 0.5216384377631789, 'lambda_l2': 0.5141215730887658}. Best is trial 0 with value: 0.7428119041043647.\n"
     ]
    },
    {
     "name": "stdout",
     "output_type": "stream",
     "text": [
      "[LightGBM] [Warning] lambda_l1 is set=0.0034973396909666805, reg_alpha=0.0 will be ignored. Current value: lambda_l1=0.0034973396909666805\n",
      "[LightGBM] [Warning] lambda_l2 is set=1.238280249551073e-06, reg_lambda=0.0 will be ignored. Current value: lambda_l2=1.238280249551073e-06\n",
      "[LightGBM] [Warning] lambda_l1 is set=0.0034973396909666805, reg_alpha=0.0 will be ignored. Current value: lambda_l1=0.0034973396909666805\n",
      "[LightGBM] [Warning] lambda_l2 is set=1.238280249551073e-06, reg_lambda=0.0 will be ignored. Current value: lambda_l2=1.238280249551073e-06\n",
      "[LightGBM] [Warning] lambda_l1 is set=0.0034973396909666805, reg_alpha=0.0 will be ignored. Current value: lambda_l1=0.0034973396909666805\n",
      "[LightGBM] [Warning] lambda_l2 is set=1.238280249551073e-06, reg_lambda=0.0 will be ignored. Current value: lambda_l2=1.238280249551073e-06\n",
      "[LightGBM] [Warning] lambda_l1 is set=0.0034973396909666805, reg_alpha=0.0 will be ignored. Current value: lambda_l1=0.0034973396909666805\n",
      "[LightGBM] [Warning] lambda_l2 is set=1.238280249551073e-06, reg_lambda=0.0 will be ignored. Current value: lambda_l2=1.238280249551073e-06\n",
      "[LightGBM] [Warning] lambda_l1 is set=0.0034973396909666805, reg_alpha=0.0 will be ignored. Current value: lambda_l1=0.0034973396909666805\n",
      "[LightGBM] [Warning] lambda_l2 is set=1.238280249551073e-06, reg_lambda=0.0 will be ignored. Current value: lambda_l2=1.238280249551073e-06\n",
      "[LightGBM] [Warning] lambda_l1 is set=0.0034973396909666805, reg_alpha=0.0 will be ignored. Current value: lambda_l1=0.0034973396909666805\n",
      "[LightGBM] [Warning] lambda_l2 is set=1.238280249551073e-06, reg_lambda=0.0 will be ignored. Current value: lambda_l2=1.238280249551073e-06\n",
      "[LightGBM] [Warning] lambda_l1 is set=0.0034973396909666805, reg_alpha=0.0 will be ignored. Current value: lambda_l1=0.0034973396909666805\n",
      "[LightGBM] [Warning] lambda_l2 is set=1.238280249551073e-06, reg_lambda=0.0 will be ignored. Current value: lambda_l2=1.238280249551073e-06\n"
     ]
    },
    {
     "name": "stderr",
     "output_type": "stream",
     "text": [
      "[I 2024-12-07 18:37:29,715] Trial 1 finished with value: 0.7977710708696624 and parameters: {'learning_rate': 0.07496070519323274, 'max_depth': 5, 'num_leaves': 740, 'n_estimators': 451, 'min_child_samples': 47, 'subsample': 0.5628524663806997, 'colsample_bytree': 0.6967002940408294, 'lambda_l1': 0.0034973396909666805, 'lambda_l2': 1.238280249551073e-06}. Best is trial 1 with value: 0.7977710708696624.\n"
     ]
    },
    {
     "name": "stdout",
     "output_type": "stream",
     "text": [
      "[LightGBM] [Warning] lambda_l1 is set=0.00010051157263392181, reg_alpha=0.0 will be ignored. Current value: lambda_l1=0.00010051157263392181\n",
      "[LightGBM] [Warning] lambda_l2 is set=0.0015270686778521313, reg_lambda=0.0 will be ignored. Current value: lambda_l2=0.0015270686778521313\n",
      "[LightGBM] [Warning] lambda_l1 is set=0.00010051157263392181, reg_alpha=0.0 will be ignored. Current value: lambda_l1=0.00010051157263392181\n",
      "[LightGBM] [Warning] lambda_l2 is set=0.0015270686778521313, reg_lambda=0.0 will be ignored. Current value: lambda_l2=0.0015270686778521313\n",
      "[LightGBM] [Warning] lambda_l1 is set=0.00010051157263392181, reg_alpha=0.0 will be ignored. Current value: lambda_l1=0.00010051157263392181\n",
      "[LightGBM] [Warning] lambda_l2 is set=0.0015270686778521313, reg_lambda=0.0 will be ignored. Current value: lambda_l2=0.0015270686778521313\n",
      "[LightGBM] [Warning] lambda_l1 is set=0.00010051157263392181, reg_alpha=0.0 will be ignored. Current value: lambda_l1=0.00010051157263392181\n",
      "[LightGBM] [Warning] lambda_l2 is set=0.0015270686778521313, reg_lambda=0.0 will be ignored. Current value: lambda_l2=0.0015270686778521313\n",
      "[LightGBM] [Warning] lambda_l1 is set=0.00010051157263392181, reg_alpha=0.0 will be ignored. Current value: lambda_l1=0.00010051157263392181\n",
      "[LightGBM] [Warning] lambda_l2 is set=0.0015270686778521313, reg_lambda=0.0 will be ignored. Current value: lambda_l2=0.0015270686778521313\n",
      "[LightGBM] [Warning] lambda_l1 is set=0.00010051157263392181, reg_alpha=0.0 will be ignored. Current value: lambda_l1=0.00010051157263392181\n",
      "[LightGBM] [Warning] lambda_l2 is set=0.0015270686778521313, reg_lambda=0.0 will be ignored. Current value: lambda_l2=0.0015270686778521313\n",
      "[LightGBM] [Warning] lambda_l1 is set=0.00010051157263392181, reg_alpha=0.0 will be ignored. Current value: lambda_l1=0.00010051157263392181\n",
      "[LightGBM] [Warning] lambda_l2 is set=0.0015270686778521313, reg_lambda=0.0 will be ignored. Current value: lambda_l2=0.0015270686778521313\n"
     ]
    },
    {
     "name": "stderr",
     "output_type": "stream",
     "text": [
      "[I 2024-12-07 18:37:32,598] Trial 2 finished with value: 0.8189115082652779 and parameters: {'learning_rate': 0.06497122311580714, 'max_depth': 5, 'num_leaves': 400, 'n_estimators': 331, 'min_child_samples': 82, 'subsample': 0.6949491220774011, 'colsample_bytree': 0.7229942999372205, 'lambda_l1': 0.00010051157263392181, 'lambda_l2': 0.0015270686778521313}. Best is trial 2 with value: 0.8189115082652779.\n"
     ]
    },
    {
     "name": "stdout",
     "output_type": "stream",
     "text": [
      "[LightGBM] [Warning] lambda_l1 is set=6.780744913473282e-06, reg_alpha=0.0 will be ignored. Current value: lambda_l1=6.780744913473282e-06\n",
      "[LightGBM] [Warning] lambda_l2 is set=8.355758601427117e-05, reg_lambda=0.0 will be ignored. Current value: lambda_l2=8.355758601427117e-05\n",
      "[LightGBM] [Warning] lambda_l1 is set=6.780744913473282e-06, reg_alpha=0.0 will be ignored. Current value: lambda_l1=6.780744913473282e-06\n",
      "[LightGBM] [Warning] lambda_l2 is set=8.355758601427117e-05, reg_lambda=0.0 will be ignored. Current value: lambda_l2=8.355758601427117e-05\n",
      "[LightGBM] [Warning] lambda_l1 is set=6.780744913473282e-06, reg_alpha=0.0 will be ignored. Current value: lambda_l1=6.780744913473282e-06\n",
      "[LightGBM] [Warning] lambda_l2 is set=8.355758601427117e-05, reg_lambda=0.0 will be ignored. Current value: lambda_l2=8.355758601427117e-05\n",
      "[LightGBM] [Warning] lambda_l1 is set=6.780744913473282e-06, reg_alpha=0.0 will be ignored. Current value: lambda_l1=6.780744913473282e-06\n",
      "[LightGBM] [Warning] lambda_l2 is set=8.355758601427117e-05, reg_lambda=0.0 will be ignored. Current value: lambda_l2=8.355758601427117e-05\n",
      "[LightGBM] [Warning] lambda_l1 is set=6.780744913473282e-06, reg_alpha=0.0 will be ignored. Current value: lambda_l1=6.780744913473282e-06\n",
      "[LightGBM] [Warning] lambda_l2 is set=8.355758601427117e-05, reg_lambda=0.0 will be ignored. Current value: lambda_l2=8.355758601427117e-05\n",
      "[LightGBM] [Warning] lambda_l1 is set=6.780744913473282e-06, reg_alpha=0.0 will be ignored. Current value: lambda_l1=6.780744913473282e-06\n",
      "[LightGBM] [Warning] lambda_l2 is set=8.355758601427117e-05, reg_lambda=0.0 will be ignored. Current value: lambda_l2=8.355758601427117e-05\n",
      "[LightGBM] [Warning] lambda_l1 is set=6.780744913473282e-06, reg_alpha=0.0 will be ignored. Current value: lambda_l1=6.780744913473282e-06\n",
      "[LightGBM] [Warning] lambda_l2 is set=8.355758601427117e-05, reg_lambda=0.0 will be ignored. Current value: lambda_l2=8.355758601427117e-05\n"
     ]
    },
    {
     "name": "stderr",
     "output_type": "stream",
     "text": [
      "[I 2024-12-07 18:37:34,980] Trial 3 finished with value: 0.776054233900133 and parameters: {'learning_rate': 0.10496366569746643, 'max_depth': 13, 'num_leaves': 490, 'n_estimators': 420, 'min_child_samples': 56, 'subsample': 0.9683504499256039, 'colsample_bytree': 0.6368186561523589, 'lambda_l1': 6.780744913473282e-06, 'lambda_l2': 8.355758601427117e-05}. Best is trial 2 with value: 0.8189115082652779.\n"
     ]
    },
    {
     "name": "stdout",
     "output_type": "stream",
     "text": [
      "[LightGBM] [Warning] lambda_l1 is set=0.9181443643096244, reg_alpha=0.0 will be ignored. Current value: lambda_l1=0.9181443643096244\n",
      "[LightGBM] [Warning] lambda_l2 is set=0.006523504097523804, reg_lambda=0.0 will be ignored. Current value: lambda_l2=0.006523504097523804\n",
      "[LightGBM] [Warning] lambda_l1 is set=0.9181443643096244, reg_alpha=0.0 will be ignored. Current value: lambda_l1=0.9181443643096244\n",
      "[LightGBM] [Warning] lambda_l2 is set=0.006523504097523804, reg_lambda=0.0 will be ignored. Current value: lambda_l2=0.006523504097523804\n",
      "[LightGBM] [Warning] lambda_l1 is set=0.9181443643096244, reg_alpha=0.0 will be ignored. Current value: lambda_l1=0.9181443643096244\n",
      "[LightGBM] [Warning] lambda_l2 is set=0.006523504097523804, reg_lambda=0.0 will be ignored. Current value: lambda_l2=0.006523504097523804\n",
      "[LightGBM] [Warning] lambda_l1 is set=0.9181443643096244, reg_alpha=0.0 will be ignored. Current value: lambda_l1=0.9181443643096244\n",
      "[LightGBM] [Warning] lambda_l2 is set=0.006523504097523804, reg_lambda=0.0 will be ignored. Current value: lambda_l2=0.006523504097523804\n",
      "[LightGBM] [Warning] lambda_l1 is set=0.9181443643096244, reg_alpha=0.0 will be ignored. Current value: lambda_l1=0.9181443643096244\n",
      "[LightGBM] [Warning] lambda_l2 is set=0.006523504097523804, reg_lambda=0.0 will be ignored. Current value: lambda_l2=0.006523504097523804\n",
      "[LightGBM] [Warning] lambda_l1 is set=0.9181443643096244, reg_alpha=0.0 will be ignored. Current value: lambda_l1=0.9181443643096244\n",
      "[LightGBM] [Warning] lambda_l2 is set=0.006523504097523804, reg_lambda=0.0 will be ignored. Current value: lambda_l2=0.006523504097523804\n"
     ]
    },
    {
     "name": "stderr",
     "output_type": "stream",
     "text": [
      "[I 2024-12-07 18:37:35,840] Trial 4 finished with value: 0.7992027984902881 and parameters: {'learning_rate': 0.08556724820043946, 'max_depth': 3, 'num_leaves': 456, 'n_estimators': 246, 'min_child_samples': 41, 'subsample': 0.5103323655531723, 'colsample_bytree': 0.5609018550837122, 'lambda_l1': 0.9181443643096244, 'lambda_l2': 0.006523504097523804}. Best is trial 2 with value: 0.8189115082652779.\n"
     ]
    },
    {
     "name": "stdout",
     "output_type": "stream",
     "text": [
      "[LightGBM] [Warning] lambda_l1 is set=0.9181443643096244, reg_alpha=0.0 will be ignored. Current value: lambda_l1=0.9181443643096244\n",
      "[LightGBM] [Warning] lambda_l2 is set=0.006523504097523804, reg_lambda=0.0 will be ignored. Current value: lambda_l2=0.006523504097523804\n",
      "[LightGBM] [Warning] lambda_l1 is set=6.0148064885157774e-05, reg_alpha=0.0 will be ignored. Current value: lambda_l1=6.0148064885157774e-05\n",
      "[LightGBM] [Warning] lambda_l2 is set=0.00026504351079845395, reg_lambda=0.0 will be ignored. Current value: lambda_l2=0.00026504351079845395\n",
      "[LightGBM] [Warning] lambda_l1 is set=6.0148064885157774e-05, reg_alpha=0.0 will be ignored. Current value: lambda_l1=6.0148064885157774e-05\n",
      "[LightGBM] [Warning] lambda_l2 is set=0.00026504351079845395, reg_lambda=0.0 will be ignored. Current value: lambda_l2=0.00026504351079845395\n",
      "[LightGBM] [Warning] lambda_l1 is set=6.0148064885157774e-05, reg_alpha=0.0 will be ignored. Current value: lambda_l1=6.0148064885157774e-05\n",
      "[LightGBM] [Warning] lambda_l2 is set=0.00026504351079845395, reg_lambda=0.0 will be ignored. Current value: lambda_l2=0.00026504351079845395\n",
      "[LightGBM] [Warning] lambda_l1 is set=6.0148064885157774e-05, reg_alpha=0.0 will be ignored. Current value: lambda_l1=6.0148064885157774e-05\n",
      "[LightGBM] [Warning] lambda_l2 is set=0.00026504351079845395, reg_lambda=0.0 will be ignored. Current value: lambda_l2=0.00026504351079845395\n",
      "[LightGBM] [Warning] lambda_l1 is set=6.0148064885157774e-05, reg_alpha=0.0 will be ignored. Current value: lambda_l1=6.0148064885157774e-05\n",
      "[LightGBM] [Warning] lambda_l2 is set=0.00026504351079845395, reg_lambda=0.0 will be ignored. Current value: lambda_l2=0.00026504351079845395\n",
      "[LightGBM] [Warning] lambda_l1 is set=6.0148064885157774e-05, reg_alpha=0.0 will be ignored. Current value: lambda_l1=6.0148064885157774e-05\n",
      "[LightGBM] [Warning] lambda_l2 is set=0.00026504351079845395, reg_lambda=0.0 will be ignored. Current value: lambda_l2=0.00026504351079845395\n",
      "[LightGBM] [Warning] lambda_l1 is set=6.0148064885157774e-05, reg_alpha=0.0 will be ignored. Current value: lambda_l1=6.0148064885157774e-05\n",
      "[LightGBM] [Warning] lambda_l2 is set=0.00026504351079845395, reg_lambda=0.0 will be ignored. Current value: lambda_l2=0.00026504351079845395\n"
     ]
    },
    {
     "name": "stderr",
     "output_type": "stream",
     "text": [
      "[I 2024-12-07 18:37:45,499] Trial 5 finished with value: 0.7688161649636379 and parameters: {'learning_rate': 0.018735508004291506, 'max_depth': 13, 'num_leaves': 725, 'n_estimators': 459, 'min_child_samples': 48, 'subsample': 0.7827366050510294, 'colsample_bytree': 0.9867416596094993, 'lambda_l1': 6.0148064885157774e-05, 'lambda_l2': 0.00026504351079845395}. Best is trial 2 with value: 0.8189115082652779.\n"
     ]
    },
    {
     "name": "stdout",
     "output_type": "stream",
     "text": [
      "[LightGBM] [Warning] lambda_l1 is set=2.07254496629882e-05, reg_alpha=0.0 will be ignored. Current value: lambda_l1=2.07254496629882e-05\n",
      "[LightGBM] [Warning] lambda_l2 is set=0.01917498210466046, reg_lambda=0.0 will be ignored. Current value: lambda_l2=0.01917498210466046\n",
      "[LightGBM] [Warning] lambda_l1 is set=2.07254496629882e-05, reg_alpha=0.0 will be ignored. Current value: lambda_l1=2.07254496629882e-05\n",
      "[LightGBM] [Warning] lambda_l2 is set=0.01917498210466046, reg_lambda=0.0 will be ignored. Current value: lambda_l2=0.01917498210466046\n",
      "[LightGBM] [Warning] lambda_l1 is set=2.07254496629882e-05, reg_alpha=0.0 will be ignored. Current value: lambda_l1=2.07254496629882e-05\n",
      "[LightGBM] [Warning] lambda_l2 is set=0.01917498210466046, reg_lambda=0.0 will be ignored. Current value: lambda_l2=0.01917498210466046\n",
      "[LightGBM] [Warning] lambda_l1 is set=2.07254496629882e-05, reg_alpha=0.0 will be ignored. Current value: lambda_l1=2.07254496629882e-05\n",
      "[LightGBM] [Warning] lambda_l2 is set=0.01917498210466046, reg_lambda=0.0 will be ignored. Current value: lambda_l2=0.01917498210466046\n",
      "[LightGBM] [Warning] lambda_l1 is set=2.07254496629882e-05, reg_alpha=0.0 will be ignored. Current value: lambda_l1=2.07254496629882e-05\n",
      "[LightGBM] [Warning] lambda_l2 is set=0.01917498210466046, reg_lambda=0.0 will be ignored. Current value: lambda_l2=0.01917498210466046\n",
      "[LightGBM] [Warning] lambda_l1 is set=2.07254496629882e-05, reg_alpha=0.0 will be ignored. Current value: lambda_l1=2.07254496629882e-05\n",
      "[LightGBM] [Warning] lambda_l2 is set=0.01917498210466046, reg_lambda=0.0 will be ignored. Current value: lambda_l2=0.01917498210466046\n",
      "[LightGBM] [Warning] lambda_l1 is set=2.07254496629882e-05, reg_alpha=0.0 will be ignored. Current value: lambda_l1=2.07254496629882e-05\n",
      "[LightGBM] [Warning] lambda_l2 is set=0.01917498210466046, reg_lambda=0.0 will be ignored. Current value: lambda_l2=0.01917498210466046\n"
     ]
    },
    {
     "name": "stderr",
     "output_type": "stream",
     "text": [
      "[I 2024-12-07 18:37:50,312] Trial 6 finished with value: 0.81893662629371 and parameters: {'learning_rate': 0.12435532486815258, 'max_depth': 6, 'num_leaves': 613, 'n_estimators': 699, 'min_child_samples': 61, 'subsample': 0.9615712409832657, 'colsample_bytree': 0.8359501959235971, 'lambda_l1': 2.07254496629882e-05, 'lambda_l2': 0.01917498210466046}. Best is trial 6 with value: 0.81893662629371.\n"
     ]
    },
    {
     "name": "stdout",
     "output_type": "stream",
     "text": [
      "[LightGBM] [Warning] lambda_l1 is set=3.541566839633794e-06, reg_alpha=0.0 will be ignored. Current value: lambda_l1=3.541566839633794e-06\n",
      "[LightGBM] [Warning] lambda_l2 is set=0.051344831845408584, reg_lambda=0.0 will be ignored. Current value: lambda_l2=0.051344831845408584\n",
      "[LightGBM] [Warning] lambda_l1 is set=3.541566839633794e-06, reg_alpha=0.0 will be ignored. Current value: lambda_l1=3.541566839633794e-06\n",
      "[LightGBM] [Warning] lambda_l2 is set=0.051344831845408584, reg_lambda=0.0 will be ignored. Current value: lambda_l2=0.051344831845408584\n",
      "[LightGBM] [Warning] lambda_l1 is set=3.541566839633794e-06, reg_alpha=0.0 will be ignored. Current value: lambda_l1=3.541566839633794e-06\n",
      "[LightGBM] [Warning] lambda_l2 is set=0.051344831845408584, reg_lambda=0.0 will be ignored. Current value: lambda_l2=0.051344831845408584\n",
      "[LightGBM] [Warning] lambda_l1 is set=3.541566839633794e-06, reg_alpha=0.0 will be ignored. Current value: lambda_l1=3.541566839633794e-06\n",
      "[LightGBM] [Warning] lambda_l2 is set=0.051344831845408584, reg_lambda=0.0 will be ignored. Current value: lambda_l2=0.051344831845408584\n",
      "[LightGBM] [Warning] lambda_l1 is set=3.541566839633794e-06, reg_alpha=0.0 will be ignored. Current value: lambda_l1=3.541566839633794e-06\n",
      "[LightGBM] [Warning] lambda_l2 is set=0.051344831845408584, reg_lambda=0.0 will be ignored. Current value: lambda_l2=0.051344831845408584\n",
      "[LightGBM] [Warning] lambda_l1 is set=3.541566839633794e-06, reg_alpha=0.0 will be ignored. Current value: lambda_l1=3.541566839633794e-06\n",
      "[LightGBM] [Warning] lambda_l2 is set=0.051344831845408584, reg_lambda=0.0 will be ignored. Current value: lambda_l2=0.051344831845408584\n",
      "[LightGBM] [Warning] lambda_l1 is set=3.541566839633794e-06, reg_alpha=0.0 will be ignored. Current value: lambda_l1=3.541566839633794e-06\n",
      "[LightGBM] [Warning] lambda_l2 is set=0.051344831845408584, reg_lambda=0.0 will be ignored. Current value: lambda_l2=0.051344831845408584\n"
     ]
    },
    {
     "name": "stderr",
     "output_type": "stream",
     "text": [
      "[I 2024-12-07 18:37:55,332] Trial 7 finished with value: 0.7982788232663959 and parameters: {'learning_rate': 0.0754985794147639, 'max_depth': 9, 'num_leaves': 987, 'n_estimators': 395, 'min_child_samples': 33, 'subsample': 0.6542033136247525, 'colsample_bytree': 0.8094991131982983, 'lambda_l1': 3.541566839633794e-06, 'lambda_l2': 0.051344831845408584}. Best is trial 6 with value: 0.81893662629371.\n"
     ]
    },
    {
     "name": "stdout",
     "output_type": "stream",
     "text": [
      "[LightGBM] [Warning] lambda_l1 is set=3.664892781960188e-05, reg_alpha=0.0 will be ignored. Current value: lambda_l1=3.664892781960188e-05\n",
      "[LightGBM] [Warning] lambda_l2 is set=3.6626963016585983e-06, reg_lambda=0.0 will be ignored. Current value: lambda_l2=3.6626963016585983e-06\n",
      "[LightGBM] [Warning] lambda_l1 is set=3.664892781960188e-05, reg_alpha=0.0 will be ignored. Current value: lambda_l1=3.664892781960188e-05\n",
      "[LightGBM] [Warning] lambda_l2 is set=3.6626963016585983e-06, reg_lambda=0.0 will be ignored. Current value: lambda_l2=3.6626963016585983e-06\n",
      "[LightGBM] [Warning] lambda_l1 is set=3.664892781960188e-05, reg_alpha=0.0 will be ignored. Current value: lambda_l1=3.664892781960188e-05\n",
      "[LightGBM] [Warning] lambda_l2 is set=3.6626963016585983e-06, reg_lambda=0.0 will be ignored. Current value: lambda_l2=3.6626963016585983e-06\n",
      "[LightGBM] [Warning] lambda_l1 is set=3.664892781960188e-05, reg_alpha=0.0 will be ignored. Current value: lambda_l1=3.664892781960188e-05\n",
      "[LightGBM] [Warning] lambda_l2 is set=3.6626963016585983e-06, reg_lambda=0.0 will be ignored. Current value: lambda_l2=3.6626963016585983e-06\n",
      "[LightGBM] [Warning] lambda_l1 is set=3.664892781960188e-05, reg_alpha=0.0 will be ignored. Current value: lambda_l1=3.664892781960188e-05\n",
      "[LightGBM] [Warning] lambda_l2 is set=3.6626963016585983e-06, reg_lambda=0.0 will be ignored. Current value: lambda_l2=3.6626963016585983e-06\n",
      "[LightGBM] [Warning] lambda_l1 is set=3.664892781960188e-05, reg_alpha=0.0 will be ignored. Current value: lambda_l1=3.664892781960188e-05\n",
      "[LightGBM] [Warning] lambda_l2 is set=3.6626963016585983e-06, reg_lambda=0.0 will be ignored. Current value: lambda_l2=3.6626963016585983e-06\n",
      "[LightGBM] [Warning] lambda_l1 is set=3.664892781960188e-05, reg_alpha=0.0 will be ignored. Current value: lambda_l1=3.664892781960188e-05\n",
      "[LightGBM] [Warning] lambda_l2 is set=3.6626963016585983e-06, reg_lambda=0.0 will be ignored. Current value: lambda_l2=3.6626963016585983e-06\n"
     ]
    },
    {
     "name": "stderr",
     "output_type": "stream",
     "text": [
      "[I 2024-12-07 18:37:58,705] Trial 8 finished with value: 0.7622978393235228 and parameters: {'learning_rate': 0.13178203105004185, 'max_depth': 10, 'num_leaves': 700, 'n_estimators': 572, 'min_child_samples': 16, 'subsample': 0.6912382055224302, 'colsample_bytree': 0.7837582422063823, 'lambda_l1': 3.664892781960188e-05, 'lambda_l2': 3.6626963016585983e-06}. Best is trial 6 with value: 0.81893662629371.\n"
     ]
    },
    {
     "name": "stdout",
     "output_type": "stream",
     "text": [
      "[LightGBM] [Warning] lambda_l1 is set=5.87891738215397e-06, reg_alpha=0.0 will be ignored. Current value: lambda_l1=5.87891738215397e-06\n",
      "[LightGBM] [Warning] lambda_l2 is set=9.484743633277157e-05, reg_lambda=0.0 will be ignored. Current value: lambda_l2=9.484743633277157e-05\n",
      "[LightGBM] [Warning] lambda_l1 is set=5.87891738215397e-06, reg_alpha=0.0 will be ignored. Current value: lambda_l1=5.87891738215397e-06\n",
      "[LightGBM] [Warning] lambda_l2 is set=9.484743633277157e-05, reg_lambda=0.0 will be ignored. Current value: lambda_l2=9.484743633277157e-05\n",
      "[LightGBM] [Warning] lambda_l1 is set=5.87891738215397e-06, reg_alpha=0.0 will be ignored. Current value: lambda_l1=5.87891738215397e-06\n",
      "[LightGBM] [Warning] lambda_l2 is set=9.484743633277157e-05, reg_lambda=0.0 will be ignored. Current value: lambda_l2=9.484743633277157e-05\n",
      "[LightGBM] [Warning] lambda_l1 is set=5.87891738215397e-06, reg_alpha=0.0 will be ignored. Current value: lambda_l1=5.87891738215397e-06\n",
      "[LightGBM] [Warning] lambda_l2 is set=9.484743633277157e-05, reg_lambda=0.0 will be ignored. Current value: lambda_l2=9.484743633277157e-05\n",
      "[LightGBM] [Warning] lambda_l1 is set=5.87891738215397e-06, reg_alpha=0.0 will be ignored. Current value: lambda_l1=5.87891738215397e-06\n",
      "[LightGBM] [Warning] lambda_l2 is set=9.484743633277157e-05, reg_lambda=0.0 will be ignored. Current value: lambda_l2=9.484743633277157e-05\n",
      "[LightGBM] [Warning] lambda_l1 is set=5.87891738215397e-06, reg_alpha=0.0 will be ignored. Current value: lambda_l1=5.87891738215397e-06\n",
      "[LightGBM] [Warning] lambda_l2 is set=9.484743633277157e-05, reg_lambda=0.0 will be ignored. Current value: lambda_l2=9.484743633277157e-05\n",
      "[LightGBM] [Warning] lambda_l1 is set=5.87891738215397e-06, reg_alpha=0.0 will be ignored. Current value: lambda_l1=5.87891738215397e-06\n",
      "[LightGBM] [Warning] lambda_l2 is set=9.484743633277157e-05, reg_lambda=0.0 will be ignored. Current value: lambda_l2=9.484743633277157e-05\n"
     ]
    },
    {
     "name": "stderr",
     "output_type": "stream",
     "text": [
      "[I 2024-12-07 18:38:02,799] Trial 9 finished with value: 0.7944257703081233 and parameters: {'learning_rate': 0.0653024284901108, 'max_depth': 8, 'num_leaves': 407, 'n_estimators': 250, 'min_child_samples': 24, 'subsample': 0.7072035323562745, 'colsample_bytree': 0.7271709525970221, 'lambda_l1': 5.87891738215397e-06, 'lambda_l2': 9.484743633277157e-05}. Best is trial 6 with value: 0.81893662629371.\n"
     ]
    },
    {
     "name": "stdout",
     "output_type": "stream",
     "text": [
      "[LightGBM] [Warning] lambda_l1 is set=0.003274746447676777, reg_alpha=0.0 will be ignored. Current value: lambda_l1=0.003274746447676777\n",
      "[LightGBM] [Warning] lambda_l2 is set=0.8877175051167041, reg_lambda=0.0 will be ignored. Current value: lambda_l2=0.8877175051167041\n",
      "[LightGBM] [Warning] lambda_l1 is set=0.003274746447676777, reg_alpha=0.0 will be ignored. Current value: lambda_l1=0.003274746447676777\n",
      "[LightGBM] [Warning] lambda_l2 is set=0.8877175051167041, reg_lambda=0.0 will be ignored. Current value: lambda_l2=0.8877175051167041\n",
      "[LightGBM] [Warning] lambda_l1 is set=0.003274746447676777, reg_alpha=0.0 will be ignored. Current value: lambda_l1=0.003274746447676777\n",
      "[LightGBM] [Warning] lambda_l2 is set=0.8877175051167041, reg_lambda=0.0 will be ignored. Current value: lambda_l2=0.8877175051167041\n",
      "[LightGBM] [Warning] lambda_l1 is set=0.003274746447676777, reg_alpha=0.0 will be ignored. Current value: lambda_l1=0.003274746447676777\n",
      "[LightGBM] [Warning] lambda_l2 is set=0.8877175051167041, reg_lambda=0.0 will be ignored. Current value: lambda_l2=0.8877175051167041\n",
      "[LightGBM] [Warning] lambda_l1 is set=0.003274746447676777, reg_alpha=0.0 will be ignored. Current value: lambda_l1=0.003274746447676777\n",
      "[LightGBM] [Warning] lambda_l2 is set=0.8877175051167041, reg_lambda=0.0 will be ignored. Current value: lambda_l2=0.8877175051167041\n",
      "[LightGBM] [Warning] lambda_l1 is set=0.003274746447676777, reg_alpha=0.0 will be ignored. Current value: lambda_l1=0.003274746447676777\n",
      "[LightGBM] [Warning] lambda_l2 is set=0.8877175051167041, reg_lambda=0.0 will be ignored. Current value: lambda_l2=0.8877175051167041\n",
      "[LightGBM] [Warning] lambda_l1 is set=0.003274746447676777, reg_alpha=0.0 will be ignored. Current value: lambda_l1=0.003274746447676777\n",
      "[LightGBM] [Warning] lambda_l2 is set=0.8877175051167041, reg_lambda=0.0 will be ignored. Current value: lambda_l2=0.8877175051167041\n"
     ]
    },
    {
     "name": "stderr",
     "output_type": "stream",
     "text": [
      "[I 2024-12-07 18:38:11,691] Trial 10 finished with value: 0.7705170894648941 and parameters: {'learning_rate': 0.14434315134826992, 'max_depth': 7, 'num_leaves': 58, 'n_estimators': 677, 'min_child_samples': 70, 'subsample': 0.8424672616337232, 'colsample_bytree': 0.8803799878306873, 'lambda_l1': 0.003274746447676777, 'lambda_l2': 0.8877175051167041}. Best is trial 6 with value: 0.81893662629371.\n"
     ]
    },
    {
     "name": "stdout",
     "output_type": "stream",
     "text": [
      "[LightGBM] [Warning] lambda_l1 is set=0.0002729359514723115, reg_alpha=0.0 will be ignored. Current value: lambda_l1=0.0002729359514723115\n",
      "[LightGBM] [Warning] lambda_l2 is set=0.004235049803011655, reg_lambda=0.0 will be ignored. Current value: lambda_l2=0.004235049803011655\n",
      "[LightGBM] [Warning] lambda_l1 is set=0.0002729359514723115, reg_alpha=0.0 will be ignored. Current value: lambda_l1=0.0002729359514723115\n",
      "[LightGBM] [Warning] lambda_l2 is set=0.004235049803011655, reg_lambda=0.0 will be ignored. Current value: lambda_l2=0.004235049803011655\n",
      "[LightGBM] [Warning] lambda_l1 is set=0.0002729359514723115, reg_alpha=0.0 will be ignored. Current value: lambda_l1=0.0002729359514723115\n",
      "[LightGBM] [Warning] lambda_l2 is set=0.004235049803011655, reg_lambda=0.0 will be ignored. Current value: lambda_l2=0.004235049803011655\n",
      "[LightGBM] [Warning] lambda_l1 is set=0.0002729359514723115, reg_alpha=0.0 will be ignored. Current value: lambda_l1=0.0002729359514723115\n",
      "[LightGBM] [Warning] lambda_l2 is set=0.004235049803011655, reg_lambda=0.0 will be ignored. Current value: lambda_l2=0.004235049803011655\n",
      "[LightGBM] [Warning] lambda_l1 is set=0.0002729359514723115, reg_alpha=0.0 will be ignored. Current value: lambda_l1=0.0002729359514723115\n",
      "[LightGBM] [Warning] lambda_l2 is set=0.004235049803011655, reg_lambda=0.0 will be ignored. Current value: lambda_l2=0.004235049803011655\n",
      "[LightGBM] [Warning] lambda_l1 is set=0.0002729359514723115, reg_alpha=0.0 will be ignored. Current value: lambda_l1=0.0002729359514723115\n",
      "[LightGBM] [Warning] lambda_l2 is set=0.004235049803011655, reg_lambda=0.0 will be ignored. Current value: lambda_l2=0.004235049803011655\n",
      "[LightGBM] [Warning] lambda_l1 is set=0.0002729359514723115, reg_alpha=0.0 will be ignored. Current value: lambda_l1=0.0002729359514723115\n",
      "[LightGBM] [Warning] lambda_l2 is set=0.004235049803011655, reg_lambda=0.0 will be ignored. Current value: lambda_l2=0.004235049803011655\n"
     ]
    },
    {
     "name": "stderr",
     "output_type": "stream",
     "text": [
      "[I 2024-12-07 18:38:16,452] Trial 11 finished with value: 0.8091855709419918 and parameters: {'learning_rate': 0.0424928426271777, 'max_depth': 6, 'num_leaves': 286, 'n_estimators': 334, 'min_child_samples': 87, 'subsample': 0.9896682175277339, 'colsample_bytree': 0.8408337113669889, 'lambda_l1': 0.0002729359514723115, 'lambda_l2': 0.004235049803011655}. Best is trial 6 with value: 0.81893662629371.\n"
     ]
    },
    {
     "name": "stdout",
     "output_type": "stream",
     "text": [
      "[LightGBM] [Warning] lambda_l1 is set=0.00039884849396440116, reg_alpha=0.0 will be ignored. Current value: lambda_l1=0.00039884849396440116\n",
      "[LightGBM] [Warning] lambda_l2 is set=0.028273646749462818, reg_lambda=0.0 will be ignored. Current value: lambda_l2=0.028273646749462818\n",
      "[LightGBM] [Warning] lambda_l1 is set=0.00039884849396440116, reg_alpha=0.0 will be ignored. Current value: lambda_l1=0.00039884849396440116\n",
      "[LightGBM] [Warning] lambda_l2 is set=0.028273646749462818, reg_lambda=0.0 will be ignored. Current value: lambda_l2=0.028273646749462818\n",
      "[LightGBM] [Warning] lambda_l1 is set=0.00039884849396440116, reg_alpha=0.0 will be ignored. Current value: lambda_l1=0.00039884849396440116\n",
      "[LightGBM] [Warning] lambda_l2 is set=0.028273646749462818, reg_lambda=0.0 will be ignored. Current value: lambda_l2=0.028273646749462818\n",
      "[LightGBM] [Warning] lambda_l1 is set=0.00039884849396440116, reg_alpha=0.0 will be ignored. Current value: lambda_l1=0.00039884849396440116\n",
      "[LightGBM] [Warning] lambda_l2 is set=0.028273646749462818, reg_lambda=0.0 will be ignored. Current value: lambda_l2=0.028273646749462818\n",
      "[LightGBM] [Warning] lambda_l1 is set=0.00039884849396440116, reg_alpha=0.0 will be ignored. Current value: lambda_l1=0.00039884849396440116\n",
      "[LightGBM] [Warning] lambda_l2 is set=0.028273646749462818, reg_lambda=0.0 will be ignored. Current value: lambda_l2=0.028273646749462818\n",
      "[LightGBM] [Warning] lambda_l1 is set=0.00039884849396440116, reg_alpha=0.0 will be ignored. Current value: lambda_l1=0.00039884849396440116\n",
      "[LightGBM] [Warning] lambda_l2 is set=0.028273646749462818, reg_lambda=0.0 will be ignored. Current value: lambda_l2=0.028273646749462818\n",
      "[LightGBM] [Warning] lambda_l1 is set=0.00039884849396440116, reg_alpha=0.0 will be ignored. Current value: lambda_l1=0.00039884849396440116\n",
      "[LightGBM] [Warning] lambda_l2 is set=0.028273646749462818, reg_lambda=0.0 will be ignored. Current value: lambda_l2=0.028273646749462818\n"
     ]
    },
    {
     "name": "stderr",
     "output_type": "stream",
     "text": [
      "[I 2024-12-07 18:38:21,443] Trial 12 finished with value: 0.8444074906958088 and parameters: {'learning_rate': 0.11925672858247591, 'max_depth': 5, 'num_leaves': 604, 'n_estimators': 684, 'min_child_samples': 89, 'subsample': 0.8025002175649082, 'colsample_bytree': 0.6450098090385614, 'lambda_l1': 0.00039884849396440116, 'lambda_l2': 0.028273646749462818}. Best is trial 12 with value: 0.8444074906958088.\n"
     ]
    },
    {
     "name": "stdout",
     "output_type": "stream",
     "text": [
      "[LightGBM] [Warning] lambda_l1 is set=0.03423555453718298, reg_alpha=0.0 will be ignored. Current value: lambda_l1=0.03423555453718298\n",
      "[LightGBM] [Warning] lambda_l2 is set=0.045435479213337245, reg_lambda=0.0 will be ignored. Current value: lambda_l2=0.045435479213337245\n",
      "[LightGBM] [Warning] lambda_l1 is set=0.03423555453718298, reg_alpha=0.0 will be ignored. Current value: lambda_l1=0.03423555453718298\n",
      "[LightGBM] [Warning] lambda_l2 is set=0.045435479213337245, reg_lambda=0.0 will be ignored. Current value: lambda_l2=0.045435479213337245\n",
      "[LightGBM] [Warning] lambda_l1 is set=0.03423555453718298, reg_alpha=0.0 will be ignored. Current value: lambda_l1=0.03423555453718298\n",
      "[LightGBM] [Warning] lambda_l2 is set=0.045435479213337245, reg_lambda=0.0 will be ignored. Current value: lambda_l2=0.045435479213337245\n",
      "[LightGBM] [Warning] lambda_l1 is set=0.03423555453718298, reg_alpha=0.0 will be ignored. Current value: lambda_l1=0.03423555453718298\n",
      "[LightGBM] [Warning] lambda_l2 is set=0.045435479213337245, reg_lambda=0.0 will be ignored. Current value: lambda_l2=0.045435479213337245\n",
      "[LightGBM] [Warning] lambda_l1 is set=0.03423555453718298, reg_alpha=0.0 will be ignored. Current value: lambda_l1=0.03423555453718298\n",
      "[LightGBM] [Warning] lambda_l2 is set=0.045435479213337245, reg_lambda=0.0 will be ignored. Current value: lambda_l2=0.045435479213337245\n",
      "[LightGBM] [Warning] lambda_l1 is set=0.03423555453718298, reg_alpha=0.0 will be ignored. Current value: lambda_l1=0.03423555453718298\n",
      "[LightGBM] [Warning] lambda_l2 is set=0.045435479213337245, reg_lambda=0.0 will be ignored. Current value: lambda_l2=0.045435479213337245\n",
      "[LightGBM] [Warning] lambda_l1 is set=0.03423555453718298, reg_alpha=0.0 will be ignored. Current value: lambda_l1=0.03423555453718298\n",
      "[LightGBM] [Warning] lambda_l2 is set=0.045435479213337245, reg_lambda=0.0 will be ignored. Current value: lambda_l2=0.045435479213337245\n"
     ]
    },
    {
     "name": "stderr",
     "output_type": "stream",
     "text": [
      "[I 2024-12-07 18:38:23,632] Trial 13 finished with value: 0.8316712036927447 and parameters: {'learning_rate': 0.11546425504172861, 'max_depth': 5, 'num_leaves': 619, 'n_estimators': 700, 'min_child_samples': 68, 'subsample': 0.8363030426906544, 'colsample_bytree': 0.5088013291911327, 'lambda_l1': 0.03423555453718298, 'lambda_l2': 0.045435479213337245}. Best is trial 12 with value: 0.8444074906958088.\n"
     ]
    },
    {
     "name": "stdout",
     "output_type": "stream",
     "text": [
      "[LightGBM] [Warning] lambda_l1 is set=0.043995181994689214, reg_alpha=0.0 will be ignored. Current value: lambda_l1=0.043995181994689214\n",
      "[LightGBM] [Warning] lambda_l2 is set=0.08959455853014209, reg_lambda=0.0 will be ignored. Current value: lambda_l2=0.08959455853014209\n",
      "[LightGBM] [Warning] lambda_l1 is set=0.043995181994689214, reg_alpha=0.0 will be ignored. Current value: lambda_l1=0.043995181994689214\n",
      "[LightGBM] [Warning] lambda_l2 is set=0.08959455853014209, reg_lambda=0.0 will be ignored. Current value: lambda_l2=0.08959455853014209\n",
      "[LightGBM] [Warning] lambda_l1 is set=0.043995181994689214, reg_alpha=0.0 will be ignored. Current value: lambda_l1=0.043995181994689214\n",
      "[LightGBM] [Warning] lambda_l2 is set=0.08959455853014209, reg_lambda=0.0 will be ignored. Current value: lambda_l2=0.08959455853014209\n",
      "[LightGBM] [Warning] lambda_l1 is set=0.043995181994689214, reg_alpha=0.0 will be ignored. Current value: lambda_l1=0.043995181994689214\n",
      "[LightGBM] [Warning] lambda_l2 is set=0.08959455853014209, reg_lambda=0.0 will be ignored. Current value: lambda_l2=0.08959455853014209\n",
      "[LightGBM] [Warning] lambda_l1 is set=0.043995181994689214, reg_alpha=0.0 will be ignored. Current value: lambda_l1=0.043995181994689214\n",
      "[LightGBM] [Warning] lambda_l2 is set=0.08959455853014209, reg_lambda=0.0 will be ignored. Current value: lambda_l2=0.08959455853014209\n",
      "[LightGBM] [Warning] lambda_l1 is set=0.043995181994689214, reg_alpha=0.0 will be ignored. Current value: lambda_l1=0.043995181994689214\n",
      "[LightGBM] [Warning] lambda_l2 is set=0.08959455853014209, reg_lambda=0.0 will be ignored. Current value: lambda_l2=0.08959455853014209\n",
      "[LightGBM] [Warning] lambda_l1 is set=0.043995181994689214, reg_alpha=0.0 will be ignored. Current value: lambda_l1=0.043995181994689214\n",
      "[LightGBM] [Warning] lambda_l2 is set=0.08959455853014209, reg_lambda=0.0 will be ignored. Current value: lambda_l2=0.08959455853014209\n"
     ]
    },
    {
     "name": "stderr",
     "output_type": "stream",
     "text": [
      "[I 2024-12-07 18:38:25,722] Trial 14 finished with value: 0.8473030338896123 and parameters: {'learning_rate': 0.10696883335343621, 'max_depth': 4, 'num_leaves': 933, 'n_estimators': 609, 'min_child_samples': 73, 'subsample': 0.8263374541164522, 'colsample_bytree': 0.5271035377802693, 'lambda_l1': 0.043995181994689214, 'lambda_l2': 0.08959455853014209}. Best is trial 14 with value: 0.8473030338896123.\n"
     ]
    },
    {
     "name": "stdout",
     "output_type": "stream",
     "text": [
      "[LightGBM] [Warning] lambda_l1 is set=0.03929182128939772, reg_alpha=0.0 will be ignored. Current value: lambda_l1=0.03929182128939772\n",
      "[LightGBM] [Warning] lambda_l2 is set=0.18443499484975556, reg_lambda=0.0 will be ignored. Current value: lambda_l2=0.18443499484975556\n",
      "[LightGBM] [Warning] lambda_l1 is set=0.03929182128939772, reg_alpha=0.0 will be ignored. Current value: lambda_l1=0.03929182128939772\n",
      "[LightGBM] [Warning] lambda_l2 is set=0.18443499484975556, reg_lambda=0.0 will be ignored. Current value: lambda_l2=0.18443499484975556\n",
      "[LightGBM] [Warning] lambda_l1 is set=0.03929182128939772, reg_alpha=0.0 will be ignored. Current value: lambda_l1=0.03929182128939772\n",
      "[LightGBM] [Warning] lambda_l2 is set=0.18443499484975556, reg_lambda=0.0 will be ignored. Current value: lambda_l2=0.18443499484975556\n",
      "[LightGBM] [Warning] lambda_l1 is set=0.03929182128939772, reg_alpha=0.0 will be ignored. Current value: lambda_l1=0.03929182128939772\n",
      "[LightGBM] [Warning] lambda_l2 is set=0.18443499484975556, reg_lambda=0.0 will be ignored. Current value: lambda_l2=0.18443499484975556\n",
      "[LightGBM] [Warning] lambda_l1 is set=0.03929182128939772, reg_alpha=0.0 will be ignored. Current value: lambda_l1=0.03929182128939772\n",
      "[LightGBM] [Warning] lambda_l2 is set=0.18443499484975556, reg_lambda=0.0 will be ignored. Current value: lambda_l2=0.18443499484975556\n",
      "[LightGBM] [Warning] lambda_l1 is set=0.03929182128939772, reg_alpha=0.0 will be ignored. Current value: lambda_l1=0.03929182128939772\n",
      "[LightGBM] [Warning] lambda_l2 is set=0.18443499484975556, reg_lambda=0.0 will be ignored. Current value: lambda_l2=0.18443499484975556\n",
      "[LightGBM] [Warning] lambda_l1 is set=0.03929182128939772, reg_alpha=0.0 will be ignored. Current value: lambda_l1=0.03929182128939772\n",
      "[LightGBM] [Warning] lambda_l2 is set=0.18443499484975556, reg_lambda=0.0 will be ignored. Current value: lambda_l2=0.18443499484975556\n"
     ]
    },
    {
     "name": "stderr",
     "output_type": "stream",
     "text": [
      "[I 2024-12-07 18:38:28,149] Trial 15 finished with value: 0.8129593245749004 and parameters: {'learning_rate': 0.0993349761104139, 'max_depth': 3, 'num_leaves': 949, 'n_estimators': 597, 'min_child_samples': 77, 'subsample': 0.7924504736692948, 'colsample_bytree': 0.6218639322889282, 'lambda_l1': 0.03929182128939772, 'lambda_l2': 0.18443499484975556}. Best is trial 14 with value: 0.8473030338896123.\n"
     ]
    },
    {
     "name": "stdout",
     "output_type": "stream",
     "text": [
      "[LightGBM] [Warning] lambda_l1 is set=0.03971888778588942, reg_alpha=0.0 will be ignored. Current value: lambda_l1=0.03971888778588942\n",
      "[LightGBM] [Warning] lambda_l2 is set=0.10186800818937469, reg_lambda=0.0 will be ignored. Current value: lambda_l2=0.10186800818937469\n",
      "[LightGBM] [Warning] lambda_l1 is set=0.03971888778588942, reg_alpha=0.0 will be ignored. Current value: lambda_l1=0.03971888778588942\n",
      "[LightGBM] [Warning] lambda_l2 is set=0.10186800818937469, reg_lambda=0.0 will be ignored. Current value: lambda_l2=0.10186800818937469\n",
      "[LightGBM] [Warning] lambda_l1 is set=0.03971888778588942, reg_alpha=0.0 will be ignored. Current value: lambda_l1=0.03971888778588942\n",
      "[LightGBM] [Warning] lambda_l2 is set=0.10186800818937469, reg_lambda=0.0 will be ignored. Current value: lambda_l2=0.10186800818937469\n",
      "[LightGBM] [Warning] lambda_l1 is set=0.03971888778588942, reg_alpha=0.0 will be ignored. Current value: lambda_l1=0.03971888778588942\n",
      "[LightGBM] [Warning] lambda_l2 is set=0.10186800818937469, reg_lambda=0.0 will be ignored. Current value: lambda_l2=0.10186800818937469\n",
      "[LightGBM] [Warning] lambda_l1 is set=0.03971888778588942, reg_alpha=0.0 will be ignored. Current value: lambda_l1=0.03971888778588942\n",
      "[LightGBM] [Warning] lambda_l2 is set=0.10186800818937469, reg_lambda=0.0 will be ignored. Current value: lambda_l2=0.10186800818937469\n",
      "[LightGBM] [Warning] lambda_l1 is set=0.03971888778588942, reg_alpha=0.0 will be ignored. Current value: lambda_l1=0.03971888778588942\n",
      "[LightGBM] [Warning] lambda_l2 is set=0.10186800818937469, reg_lambda=0.0 will be ignored. Current value: lambda_l2=0.10186800818937469\n",
      "[LightGBM] [Warning] lambda_l1 is set=0.03971888778588942, reg_alpha=0.0 will be ignored. Current value: lambda_l1=0.03971888778588942\n",
      "[LightGBM] [Warning] lambda_l2 is set=0.10186800818937469, reg_lambda=0.0 will be ignored. Current value: lambda_l2=0.10186800818937469\n"
     ]
    },
    {
     "name": "stderr",
     "output_type": "stream",
     "text": [
      "[I 2024-12-07 18:38:30,101] Trial 16 finished with value: 0.8183293223392641 and parameters: {'learning_rate': 0.14151552791472669, 'max_depth': 4, 'num_leaves': 858, 'n_estimators': 609, 'min_child_samples': 89, 'subsample': 0.8769829117586343, 'colsample_bytree': 0.5006276143222754, 'lambda_l1': 0.03971888778588942, 'lambda_l2': 0.10186800818937469}. Best is trial 14 with value: 0.8473030338896123.\n"
     ]
    },
    {
     "name": "stdout",
     "output_type": "stream",
     "text": [
      "[LightGBM] [Warning] lambda_l1 is set=0.0007482844278592469, reg_alpha=0.0 will be ignored. Current value: lambda_l1=0.0007482844278592469\n",
      "[LightGBM] [Warning] lambda_l2 is set=0.011755403431953516, reg_lambda=0.0 will be ignored. Current value: lambda_l2=0.011755403431953516\n",
      "[LightGBM] [Warning] lambda_l1 is set=0.0007482844278592469, reg_alpha=0.0 will be ignored. Current value: lambda_l1=0.0007482844278592469\n",
      "[LightGBM] [Warning] lambda_l2 is set=0.011755403431953516, reg_lambda=0.0 will be ignored. Current value: lambda_l2=0.011755403431953516\n",
      "[LightGBM] [Warning] lambda_l1 is set=0.0007482844278592469, reg_alpha=0.0 will be ignored. Current value: lambda_l1=0.0007482844278592469\n",
      "[LightGBM] [Warning] lambda_l2 is set=0.011755403431953516, reg_lambda=0.0 will be ignored. Current value: lambda_l2=0.011755403431953516\n",
      "[LightGBM] [Warning] lambda_l1 is set=0.0007482844278592469, reg_alpha=0.0 will be ignored. Current value: lambda_l1=0.0007482844278592469\n",
      "[LightGBM] [Warning] lambda_l2 is set=0.011755403431953516, reg_lambda=0.0 will be ignored. Current value: lambda_l2=0.011755403431953516\n",
      "[LightGBM] [Warning] lambda_l1 is set=0.0007482844278592469, reg_alpha=0.0 will be ignored. Current value: lambda_l1=0.0007482844278592469\n",
      "[LightGBM] [Warning] lambda_l2 is set=0.011755403431953516, reg_lambda=0.0 will be ignored. Current value: lambda_l2=0.011755403431953516\n",
      "[LightGBM] [Warning] lambda_l1 is set=0.0007482844278592469, reg_alpha=0.0 will be ignored. Current value: lambda_l1=0.0007482844278592469\n",
      "[LightGBM] [Warning] lambda_l2 is set=0.011755403431953516, reg_lambda=0.0 will be ignored. Current value: lambda_l2=0.011755403431953516\n",
      "[LightGBM] [Warning] lambda_l1 is set=0.0007482844278592469, reg_alpha=0.0 will be ignored. Current value: lambda_l1=0.0007482844278592469\n",
      "[LightGBM] [Warning] lambda_l2 is set=0.011755403431953516, reg_lambda=0.0 will be ignored. Current value: lambda_l2=0.011755403431953516\n"
     ]
    },
    {
     "name": "stderr",
     "output_type": "stream",
     "text": [
      "[I 2024-12-07 18:38:34,666] Trial 17 finished with value: 0.8214160781683565 and parameters: {'learning_rate': 0.09966036424885873, 'max_depth': 11, 'num_leaves': 842, 'n_estimators': 531, 'min_child_samples': 76, 'subsample': 0.7689378619602234, 'colsample_bytree': 0.5962386144007847, 'lambda_l1': 0.0007482844278592469, 'lambda_l2': 0.011755403431953516}. Best is trial 14 with value: 0.8473030338896123.\n"
     ]
    },
    {
     "name": "stdout",
     "output_type": "stream",
     "text": [
      "[LightGBM] [Warning] lambda_l1 is set=0.004758642917063039, reg_alpha=0.0 will be ignored. Current value: lambda_l1=0.004758642917063039\n",
      "[LightGBM] [Warning] lambda_l2 is set=0.0011183213003218074, reg_lambda=0.0 will be ignored. Current value: lambda_l2=0.0011183213003218074\n",
      "[LightGBM] [Warning] lambda_l1 is set=0.004758642917063039, reg_alpha=0.0 will be ignored. Current value: lambda_l1=0.004758642917063039\n",
      "[LightGBM] [Warning] lambda_l2 is set=0.0011183213003218074, reg_lambda=0.0 will be ignored. Current value: lambda_l2=0.0011183213003218074\n",
      "[LightGBM] [Warning] lambda_l1 is set=0.004758642917063039, reg_alpha=0.0 will be ignored. Current value: lambda_l1=0.004758642917063039\n",
      "[LightGBM] [Warning] lambda_l2 is set=0.0011183213003218074, reg_lambda=0.0 will be ignored. Current value: lambda_l2=0.0011183213003218074\n",
      "[LightGBM] [Warning] lambda_l1 is set=0.004758642917063039, reg_alpha=0.0 will be ignored. Current value: lambda_l1=0.004758642917063039\n",
      "[LightGBM] [Warning] lambda_l2 is set=0.0011183213003218074, reg_lambda=0.0 will be ignored. Current value: lambda_l2=0.0011183213003218074\n",
      "[LightGBM] [Warning] lambda_l1 is set=0.004758642917063039, reg_alpha=0.0 will be ignored. Current value: lambda_l1=0.004758642917063039\n",
      "[LightGBM] [Warning] lambda_l2 is set=0.0011183213003218074, reg_lambda=0.0 will be ignored. Current value: lambda_l2=0.0011183213003218074\n",
      "[LightGBM] [Warning] lambda_l1 is set=0.004758642917063039, reg_alpha=0.0 will be ignored. Current value: lambda_l1=0.004758642917063039\n",
      "[LightGBM] [Warning] lambda_l2 is set=0.0011183213003218074, reg_lambda=0.0 will be ignored. Current value: lambda_l2=0.0011183213003218074\n",
      "[LightGBM] [Warning] lambda_l1 is set=0.004758642917063039, reg_alpha=0.0 will be ignored. Current value: lambda_l1=0.004758642917063039\n",
      "[LightGBM] [Warning] lambda_l2 is set=0.0011183213003218074, reg_lambda=0.0 will be ignored. Current value: lambda_l2=0.0011183213003218074\n"
     ]
    },
    {
     "name": "stderr",
     "output_type": "stream",
     "text": [
      "[I 2024-12-07 18:38:37,353] Trial 18 finished with value: 0.8056032929603766 and parameters: {'learning_rate': 0.11404597329905201, 'max_depth': 7, 'num_leaves': 835, 'n_estimators': 647, 'min_child_samples': 69, 'subsample': 0.6148618259550485, 'colsample_bytree': 0.6810950522584998, 'lambda_l1': 0.004758642917063039, 'lambda_l2': 0.0011183213003218074}. Best is trial 14 with value: 0.8473030338896123.\n"
     ]
    },
    {
     "name": "stdout",
     "output_type": "stream",
     "text": [
      "[LightGBM] [Warning] lambda_l1 is set=0.22334037815725397, reg_alpha=0.0 will be ignored. Current value: lambda_l1=0.22334037815725397\n",
      "[LightGBM] [Warning] lambda_l2 is set=0.28234219387785336, reg_lambda=0.0 will be ignored. Current value: lambda_l2=0.28234219387785336\n",
      "[LightGBM] [Warning] lambda_l1 is set=0.22334037815725397, reg_alpha=0.0 will be ignored. Current value: lambda_l1=0.22334037815725397\n",
      "[LightGBM] [Warning] lambda_l2 is set=0.28234219387785336, reg_lambda=0.0 will be ignored. Current value: lambda_l2=0.28234219387785336\n",
      "[LightGBM] [Warning] lambda_l1 is set=0.22334037815725397, reg_alpha=0.0 will be ignored. Current value: lambda_l1=0.22334037815725397\n",
      "[LightGBM] [Warning] lambda_l2 is set=0.28234219387785336, reg_lambda=0.0 will be ignored. Current value: lambda_l2=0.28234219387785336\n",
      "[LightGBM] [Warning] lambda_l1 is set=0.22334037815725397, reg_alpha=0.0 will be ignored. Current value: lambda_l1=0.22334037815725397\n",
      "[LightGBM] [Warning] lambda_l2 is set=0.28234219387785336, reg_lambda=0.0 will be ignored. Current value: lambda_l2=0.28234219387785336\n",
      "[LightGBM] [Warning] lambda_l1 is set=0.22334037815725397, reg_alpha=0.0 will be ignored. Current value: lambda_l1=0.22334037815725397\n",
      "[LightGBM] [Warning] lambda_l2 is set=0.28234219387785336, reg_lambda=0.0 will be ignored. Current value: lambda_l2=0.28234219387785336\n",
      "[LightGBM] [Warning] lambda_l1 is set=0.22334037815725397, reg_alpha=0.0 will be ignored. Current value: lambda_l1=0.22334037815725397\n",
      "[LightGBM] [Warning] lambda_l2 is set=0.28234219387785336, reg_lambda=0.0 will be ignored. Current value: lambda_l2=0.28234219387785336\n",
      "[LightGBM] [Warning] lambda_l1 is set=0.22334037815725397, reg_alpha=0.0 will be ignored. Current value: lambda_l1=0.22334037815725397\n",
      "[LightGBM] [Warning] lambda_l2 is set=0.28234219387785336, reg_lambda=0.0 will be ignored. Current value: lambda_l2=0.28234219387785336\n"
     ]
    },
    {
     "name": "stderr",
     "output_type": "stream",
     "text": [
      "[I 2024-12-07 18:38:40,119] Trial 19 finished with value: 0.7882057048171383 and parameters: {'learning_rate': 0.04520672836197548, 'max_depth': 4, 'num_leaves': 290, 'n_estimators': 640, 'min_child_samples': 61, 'subsample': 0.9199346253448498, 'colsample_bytree': 0.5638262518836179, 'lambda_l1': 0.22334037815725397, 'lambda_l2': 0.28234219387785336}. Best is trial 14 with value: 0.8473030338896123.\n"
     ]
    },
    {
     "name": "stdout",
     "output_type": "stream",
     "text": [
      "[LightGBM] [Warning] lambda_l1 is set=0.0093596420662575, reg_alpha=0.0 will be ignored. Current value: lambda_l1=0.0093596420662575\n",
      "[LightGBM] [Warning] lambda_l2 is set=0.028348012910053174, reg_lambda=0.0 will be ignored. Current value: lambda_l2=0.028348012910053174\n",
      "[LightGBM] [Warning] lambda_l1 is set=0.0093596420662575, reg_alpha=0.0 will be ignored. Current value: lambda_l1=0.0093596420662575\n",
      "[LightGBM] [Warning] lambda_l2 is set=0.028348012910053174, reg_lambda=0.0 will be ignored. Current value: lambda_l2=0.028348012910053174\n",
      "[LightGBM] [Warning] lambda_l1 is set=0.0093596420662575, reg_alpha=0.0 will be ignored. Current value: lambda_l1=0.0093596420662575\n",
      "[LightGBM] [Warning] lambda_l2 is set=0.028348012910053174, reg_lambda=0.0 will be ignored. Current value: lambda_l2=0.028348012910053174\n",
      "[LightGBM] [Warning] lambda_l1 is set=0.0093596420662575, reg_alpha=0.0 will be ignored. Current value: lambda_l1=0.0093596420662575\n",
      "[LightGBM] [Warning] lambda_l2 is set=0.028348012910053174, reg_lambda=0.0 will be ignored. Current value: lambda_l2=0.028348012910053174\n",
      "[LightGBM] [Warning] lambda_l1 is set=0.0093596420662575, reg_alpha=0.0 will be ignored. Current value: lambda_l1=0.0093596420662575\n",
      "[LightGBM] [Warning] lambda_l2 is set=0.028348012910053174, reg_lambda=0.0 will be ignored. Current value: lambda_l2=0.028348012910053174\n",
      "[LightGBM] [Warning] lambda_l1 is set=0.0093596420662575, reg_alpha=0.0 will be ignored. Current value: lambda_l1=0.0093596420662575\n",
      "[LightGBM] [Warning] lambda_l2 is set=0.028348012910053174, reg_lambda=0.0 will be ignored. Current value: lambda_l2=0.028348012910053174\n",
      "[LightGBM] [Warning] lambda_l1 is set=0.0093596420662575, reg_alpha=0.0 will be ignored. Current value: lambda_l1=0.0093596420662575\n",
      "[LightGBM] [Warning] lambda_l2 is set=0.028348012910053174, reg_lambda=0.0 will be ignored. Current value: lambda_l2=0.028348012910053174\n"
     ]
    },
    {
     "name": "stderr",
     "output_type": "stream",
     "text": [
      "[I 2024-12-07 18:38:43,182] Trial 20 finished with value: 0.8006203232466695 and parameters: {'learning_rate': 0.08969996114926405, 'max_depth': 7, 'num_leaves': 633, 'n_estimators': 549, 'min_child_samples': 90, 'subsample': 0.8337369480400921, 'colsample_bytree': 0.6618199374340129, 'lambda_l1': 0.0093596420662575, 'lambda_l2': 0.028348012910053174}. Best is trial 14 with value: 0.8473030338896123.\n"
     ]
    },
    {
     "name": "stdout",
     "output_type": "stream",
     "text": [
      "[LightGBM] [Warning] lambda_l1 is set=0.05434920887916685, reg_alpha=0.0 will be ignored. Current value: lambda_l1=0.05434920887916685\n",
      "[LightGBM] [Warning] lambda_l2 is set=0.07210515777596116, reg_lambda=0.0 will be ignored. Current value: lambda_l2=0.07210515777596116\n",
      "[LightGBM] [Warning] lambda_l1 is set=0.05434920887916685, reg_alpha=0.0 will be ignored. Current value: lambda_l1=0.05434920887916685\n",
      "[LightGBM] [Warning] lambda_l2 is set=0.07210515777596116, reg_lambda=0.0 will be ignored. Current value: lambda_l2=0.07210515777596116\n",
      "[LightGBM] [Warning] lambda_l1 is set=0.05434920887916685, reg_alpha=0.0 will be ignored. Current value: lambda_l1=0.05434920887916685\n",
      "[LightGBM] [Warning] lambda_l2 is set=0.07210515777596116, reg_lambda=0.0 will be ignored. Current value: lambda_l2=0.07210515777596116\n",
      "[LightGBM] [Warning] lambda_l1 is set=0.05434920887916685, reg_alpha=0.0 will be ignored. Current value: lambda_l1=0.05434920887916685\n",
      "[LightGBM] [Warning] lambda_l2 is set=0.07210515777596116, reg_lambda=0.0 will be ignored. Current value: lambda_l2=0.07210515777596116\n",
      "[LightGBM] [Warning] lambda_l1 is set=0.05434920887916685, reg_alpha=0.0 will be ignored. Current value: lambda_l1=0.05434920887916685\n",
      "[LightGBM] [Warning] lambda_l2 is set=0.07210515777596116, reg_lambda=0.0 will be ignored. Current value: lambda_l2=0.07210515777596116\n",
      "[LightGBM] [Warning] lambda_l1 is set=0.05434920887916685, reg_alpha=0.0 will be ignored. Current value: lambda_l1=0.05434920887916685\n",
      "[LightGBM] [Warning] lambda_l2 is set=0.07210515777596116, reg_lambda=0.0 will be ignored. Current value: lambda_l2=0.07210515777596116\n",
      "[LightGBM] [Warning] lambda_l1 is set=0.05434920887916685, reg_alpha=0.0 will be ignored. Current value: lambda_l1=0.05434920887916685\n",
      "[LightGBM] [Warning] lambda_l2 is set=0.07210515777596116, reg_lambda=0.0 will be ignored. Current value: lambda_l2=0.07210515777596116\n"
     ]
    },
    {
     "name": "stderr",
     "output_type": "stream",
     "text": [
      "[I 2024-12-07 18:38:45,307] Trial 21 finished with value: 0.8266423376862483 and parameters: {'learning_rate': 0.12095199974173061, 'max_depth': 5, 'num_leaves': 614, 'n_estimators': 700, 'min_child_samples': 68, 'subsample': 0.8269942762842298, 'colsample_bytree': 0.5041473604308714, 'lambda_l1': 0.05434920887916685, 'lambda_l2': 0.07210515777596116}. Best is trial 14 with value: 0.8473030338896123.\n"
     ]
    },
    {
     "name": "stdout",
     "output_type": "stream",
     "text": [
      "[LightGBM] [Warning] lambda_l1 is set=0.0006399220600306889, reg_alpha=0.0 will be ignored. Current value: lambda_l1=0.0006399220600306889\n",
      "[LightGBM] [Warning] lambda_l2 is set=0.0036722168440030374, reg_lambda=0.0 will be ignored. Current value: lambda_l2=0.0036722168440030374\n",
      "[LightGBM] [Warning] lambda_l1 is set=0.0006399220600306889, reg_alpha=0.0 will be ignored. Current value: lambda_l1=0.0006399220600306889\n",
      "[LightGBM] [Warning] lambda_l2 is set=0.0036722168440030374, reg_lambda=0.0 will be ignored. Current value: lambda_l2=0.0036722168440030374\n",
      "[LightGBM] [Warning] lambda_l1 is set=0.0006399220600306889, reg_alpha=0.0 will be ignored. Current value: lambda_l1=0.0006399220600306889\n",
      "[LightGBM] [Warning] lambda_l2 is set=0.0036722168440030374, reg_lambda=0.0 will be ignored. Current value: lambda_l2=0.0036722168440030374\n",
      "[LightGBM] [Warning] lambda_l1 is set=0.0006399220600306889, reg_alpha=0.0 will be ignored. Current value: lambda_l1=0.0006399220600306889\n",
      "[LightGBM] [Warning] lambda_l2 is set=0.0036722168440030374, reg_lambda=0.0 will be ignored. Current value: lambda_l2=0.0036722168440030374\n",
      "[LightGBM] [Warning] lambda_l1 is set=0.0006399220600306889, reg_alpha=0.0 will be ignored. Current value: lambda_l1=0.0006399220600306889\n",
      "[LightGBM] [Warning] lambda_l2 is set=0.0036722168440030374, reg_lambda=0.0 will be ignored. Current value: lambda_l2=0.0036722168440030374\n",
      "[LightGBM] [Warning] lambda_l1 is set=0.0006399220600306889, reg_alpha=0.0 will be ignored. Current value: lambda_l1=0.0006399220600306889\n",
      "[LightGBM] [Warning] lambda_l2 is set=0.0036722168440030374, reg_lambda=0.0 will be ignored. Current value: lambda_l2=0.0036722168440030374\n",
      "[LightGBM] [Warning] lambda_l1 is set=0.0006399220600306889, reg_alpha=0.0 will be ignored. Current value: lambda_l1=0.0006399220600306889\n",
      "[LightGBM] [Warning] lambda_l2 is set=0.0036722168440030374, reg_lambda=0.0 will be ignored. Current value: lambda_l2=0.0036722168440030374\n"
     ]
    },
    {
     "name": "stderr",
     "output_type": "stream",
     "text": [
      "[I 2024-12-07 18:38:48,231] Trial 22 finished with value: 0.81407674807012 and parameters: {'learning_rate': 0.11592394932121669, 'max_depth': 4, 'num_leaves': 552, 'n_estimators': 639, 'min_child_samples': 78, 'subsample': 0.7442507703995447, 'colsample_bytree': 0.5715957453929739, 'lambda_l1': 0.0006399220600306889, 'lambda_l2': 0.0036722168440030374}. Best is trial 14 with value: 0.8473030338896123.\n"
     ]
    },
    {
     "name": "stdout",
     "output_type": "stream",
     "text": [
      "[LightGBM] [Warning] lambda_l1 is set=0.016770305613308226, reg_alpha=0.0 will be ignored. Current value: lambda_l1=0.016770305613308226\n",
      "[LightGBM] [Warning] lambda_l2 is set=0.025551457686043593, reg_lambda=0.0 will be ignored. Current value: lambda_l2=0.025551457686043593\n",
      "[LightGBM] [Warning] lambda_l1 is set=0.016770305613308226, reg_alpha=0.0 will be ignored. Current value: lambda_l1=0.016770305613308226\n",
      "[LightGBM] [Warning] lambda_l2 is set=0.025551457686043593, reg_lambda=0.0 will be ignored. Current value: lambda_l2=0.025551457686043593\n",
      "[LightGBM] [Warning] lambda_l1 is set=0.016770305613308226, reg_alpha=0.0 will be ignored. Current value: lambda_l1=0.016770305613308226\n",
      "[LightGBM] [Warning] lambda_l2 is set=0.025551457686043593, reg_lambda=0.0 will be ignored. Current value: lambda_l2=0.025551457686043593\n",
      "[LightGBM] [Warning] lambda_l1 is set=0.016770305613308226, reg_alpha=0.0 will be ignored. Current value: lambda_l1=0.016770305613308226\n",
      "[LightGBM] [Warning] lambda_l2 is set=0.025551457686043593, reg_lambda=0.0 will be ignored. Current value: lambda_l2=0.025551457686043593\n",
      "[LightGBM] [Warning] lambda_l1 is set=0.016770305613308226, reg_alpha=0.0 will be ignored. Current value: lambda_l1=0.016770305613308226\n",
      "[LightGBM] [Warning] lambda_l2 is set=0.025551457686043593, reg_lambda=0.0 will be ignored. Current value: lambda_l2=0.025551457686043593\n",
      "[LightGBM] [Warning] lambda_l1 is set=0.016770305613308226, reg_alpha=0.0 will be ignored. Current value: lambda_l1=0.016770305613308226\n",
      "[LightGBM] [Warning] lambda_l2 is set=0.025551457686043593, reg_lambda=0.0 will be ignored. Current value: lambda_l2=0.025551457686043593\n",
      "[LightGBM] [Warning] lambda_l1 is set=0.016770305613308226, reg_alpha=0.0 will be ignored. Current value: lambda_l1=0.016770305613308226\n",
      "[LightGBM] [Warning] lambda_l2 is set=0.025551457686043593, reg_lambda=0.0 will be ignored. Current value: lambda_l2=0.025551457686043593\n"
     ]
    },
    {
     "name": "stderr",
     "output_type": "stream",
     "text": [
      "[I 2024-12-07 18:38:50,405] Trial 23 finished with value: 0.8440458436895886 and parameters: {'learning_rate': 0.13281793818579934, 'max_depth': 6, 'num_leaves': 914, 'n_estimators': 659, 'min_child_samples': 83, 'subsample': 0.8748372598812126, 'colsample_bytree': 0.5300296579757036, 'lambda_l1': 0.016770305613308226, 'lambda_l2': 0.025551457686043593}. Best is trial 14 with value: 0.8473030338896123.\n"
     ]
    },
    {
     "name": "stdout",
     "output_type": "stream",
     "text": [
      "[LightGBM] [Warning] lambda_l1 is set=0.16562147610097344, reg_alpha=0.0 will be ignored. Current value: lambda_l1=0.16562147610097344\n",
      "[LightGBM] [Warning] lambda_l2 is set=0.22917762179932682, reg_lambda=0.0 will be ignored. Current value: lambda_l2=0.22917762179932682\n",
      "[LightGBM] [Warning] lambda_l1 is set=0.16562147610097344, reg_alpha=0.0 will be ignored. Current value: lambda_l1=0.16562147610097344\n",
      "[LightGBM] [Warning] lambda_l2 is set=0.22917762179932682, reg_lambda=0.0 will be ignored. Current value: lambda_l2=0.22917762179932682\n",
      "[LightGBM] [Warning] lambda_l1 is set=0.16562147610097344, reg_alpha=0.0 will be ignored. Current value: lambda_l1=0.16562147610097344\n",
      "[LightGBM] [Warning] lambda_l2 is set=0.22917762179932682, reg_lambda=0.0 will be ignored. Current value: lambda_l2=0.22917762179932682\n",
      "[LightGBM] [Warning] lambda_l1 is set=0.16562147610097344, reg_alpha=0.0 will be ignored. Current value: lambda_l1=0.16562147610097344\n",
      "[LightGBM] [Warning] lambda_l2 is set=0.22917762179932682, reg_lambda=0.0 will be ignored. Current value: lambda_l2=0.22917762179932682\n",
      "[LightGBM] [Warning] lambda_l1 is set=0.16562147610097344, reg_alpha=0.0 will be ignored. Current value: lambda_l1=0.16562147610097344\n",
      "[LightGBM] [Warning] lambda_l2 is set=0.22917762179932682, reg_lambda=0.0 will be ignored. Current value: lambda_l2=0.22917762179932682\n",
      "[LightGBM] [Warning] lambda_l1 is set=0.16562147610097344, reg_alpha=0.0 will be ignored. Current value: lambda_l1=0.16562147610097344\n",
      "[LightGBM] [Warning] lambda_l2 is set=0.22917762179932682, reg_lambda=0.0 will be ignored. Current value: lambda_l2=0.22917762179932682\n",
      "[LightGBM] [Warning] lambda_l1 is set=0.16562147610097344, reg_alpha=0.0 will be ignored. Current value: lambda_l1=0.16562147610097344\n",
      "[LightGBM] [Warning] lambda_l2 is set=0.22917762179932682, reg_lambda=0.0 will be ignored. Current value: lambda_l2=0.22917762179932682\n"
     ]
    },
    {
     "name": "stderr",
     "output_type": "stream",
     "text": [
      "[I 2024-12-07 18:38:52,294] Trial 24 finished with value: 0.7785657737273315 and parameters: {'learning_rate': 0.1308115481099176, 'max_depth': 6, 'num_leaves': 914, 'n_estimators': 603, 'min_child_samples': 81, 'subsample': 0.8921364102726158, 'colsample_bytree': 0.5379366490758488, 'lambda_l1': 0.16562147610097344, 'lambda_l2': 0.22917762179932682}. Best is trial 14 with value: 0.8473030338896123.\n"
     ]
    },
    {
     "name": "stdout",
     "output_type": "stream",
     "text": [
      "[LightGBM] [Warning] lambda_l1 is set=0.011660792061286071, reg_alpha=0.0 will be ignored. Current value: lambda_l1=0.011660792061286071\n",
      "[LightGBM] [Warning] lambda_l2 is set=0.014041253241994504, reg_lambda=0.0 will be ignored. Current value: lambda_l2=0.014041253241994504\n",
      "[LightGBM] [Warning] lambda_l1 is set=0.011660792061286071, reg_alpha=0.0 will be ignored. Current value: lambda_l1=0.011660792061286071\n",
      "[LightGBM] [Warning] lambda_l2 is set=0.014041253241994504, reg_lambda=0.0 will be ignored. Current value: lambda_l2=0.014041253241994504\n",
      "[LightGBM] [Warning] lambda_l1 is set=0.011660792061286071, reg_alpha=0.0 will be ignored. Current value: lambda_l1=0.011660792061286071\n",
      "[LightGBM] [Warning] lambda_l2 is set=0.014041253241994504, reg_lambda=0.0 will be ignored. Current value: lambda_l2=0.014041253241994504\n",
      "[LightGBM] [Warning] lambda_l1 is set=0.011660792061286071, reg_alpha=0.0 will be ignored. Current value: lambda_l1=0.011660792061286071\n",
      "[LightGBM] [Warning] lambda_l2 is set=0.014041253241994504, reg_lambda=0.0 will be ignored. Current value: lambda_l2=0.014041253241994504\n",
      "[LightGBM] [Warning] lambda_l1 is set=0.011660792061286071, reg_alpha=0.0 will be ignored. Current value: lambda_l1=0.011660792061286071\n",
      "[LightGBM] [Warning] lambda_l2 is set=0.014041253241994504, reg_lambda=0.0 will be ignored. Current value: lambda_l2=0.014041253241994504\n",
      "[LightGBM] [Warning] lambda_l1 is set=0.011660792061286071, reg_alpha=0.0 will be ignored. Current value: lambda_l1=0.011660792061286071\n",
      "[LightGBM] [Warning] lambda_l2 is set=0.014041253241994504, reg_lambda=0.0 will be ignored. Current value: lambda_l2=0.014041253241994504\n",
      "[LightGBM] [Warning] lambda_l1 is set=0.011660792061286071, reg_alpha=0.0 will be ignored. Current value: lambda_l1=0.011660792061286071\n",
      "[LightGBM] [Warning] lambda_l2 is set=0.014041253241994504, reg_lambda=0.0 will be ignored. Current value: lambda_l2=0.014041253241994504\n"
     ]
    },
    {
     "name": "stderr",
     "output_type": "stream",
     "text": [
      "[I 2024-12-07 18:38:54,639] Trial 25 finished with value: 0.8245718756986362 and parameters: {'learning_rate': 0.14765875075035384, 'max_depth': 8, 'num_leaves': 791, 'n_estimators': 650, 'min_child_samples': 83, 'subsample': 0.7296891006821875, 'colsample_bytree': 0.6115777665774254, 'lambda_l1': 0.011660792061286071, 'lambda_l2': 0.014041253241994504}. Best is trial 14 with value: 0.8473030338896123.\n"
     ]
    },
    {
     "name": "stdout",
     "output_type": "stream",
     "text": [
      "[LightGBM] [Warning] lambda_l1 is set=0.0017842487119946045, reg_alpha=0.0 will be ignored. Current value: lambda_l1=0.0017842487119946045\n",
      "[LightGBM] [Warning] lambda_l2 is set=0.0002813162694963901, reg_lambda=0.0 will be ignored. Current value: lambda_l2=0.0002813162694963901\n",
      "[LightGBM] [Warning] lambda_l1 is set=0.0017842487119946045, reg_alpha=0.0 will be ignored. Current value: lambda_l1=0.0017842487119946045\n",
      "[LightGBM] [Warning] lambda_l2 is set=0.0002813162694963901, reg_lambda=0.0 will be ignored. Current value: lambda_l2=0.0002813162694963901\n",
      "[LightGBM] [Warning] lambda_l1 is set=0.0017842487119946045, reg_alpha=0.0 will be ignored. Current value: lambda_l1=0.0017842487119946045\n",
      "[LightGBM] [Warning] lambda_l2 is set=0.0002813162694963901, reg_lambda=0.0 will be ignored. Current value: lambda_l2=0.0002813162694963901\n",
      "[LightGBM] [Warning] lambda_l1 is set=0.0017842487119946045, reg_alpha=0.0 will be ignored. Current value: lambda_l1=0.0017842487119946045\n",
      "[LightGBM] [Warning] lambda_l2 is set=0.0002813162694963901, reg_lambda=0.0 will be ignored. Current value: lambda_l2=0.0002813162694963901\n",
      "[LightGBM] [Warning] lambda_l1 is set=0.0017842487119946045, reg_alpha=0.0 will be ignored. Current value: lambda_l1=0.0017842487119946045\n",
      "[LightGBM] [Warning] lambda_l2 is set=0.0002813162694963901, reg_lambda=0.0 will be ignored. Current value: lambda_l2=0.0002813162694963901\n",
      "[LightGBM] [Warning] lambda_l1 is set=0.0017842487119946045, reg_alpha=0.0 will be ignored. Current value: lambda_l1=0.0017842487119946045\n",
      "[LightGBM] [Warning] lambda_l2 is set=0.0002813162694963901, reg_lambda=0.0 will be ignored. Current value: lambda_l2=0.0002813162694963901\n",
      "[LightGBM] [Warning] lambda_l1 is set=0.0017842487119946045, reg_alpha=0.0 will be ignored. Current value: lambda_l1=0.0017842487119946045\n",
      "[LightGBM] [Warning] lambda_l2 is set=0.0002813162694963901, reg_lambda=0.0 will be ignored. Current value: lambda_l2=0.0002813162694963901\n"
     ]
    },
    {
     "name": "stderr",
     "output_type": "stream",
     "text": [
      "[I 2024-12-07 18:38:56,623] Trial 26 finished with value: 0.7887686905748215 and parameters: {'learning_rate': 0.13761364986959643, 'max_depth': 4, 'num_leaves': 891, 'n_estimators': 505, 'min_child_samples': 74, 'subsample': 0.9358024161490326, 'colsample_bytree': 0.5907699826031847, 'lambda_l1': 0.0017842487119946045, 'lambda_l2': 0.0002813162694963901}. Best is trial 14 with value: 0.8473030338896123.\n"
     ]
    },
    {
     "name": "stdout",
     "output_type": "stream",
     "text": [
      "[LightGBM] [Warning] lambda_l1 is set=0.00025748007369392226, reg_alpha=0.0 will be ignored. Current value: lambda_l1=0.00025748007369392226\n",
      "[LightGBM] [Warning] lambda_l2 is set=0.1171143877312783, reg_lambda=0.0 will be ignored. Current value: lambda_l2=0.1171143877312783\n",
      "[LightGBM] [Warning] lambda_l1 is set=0.00025748007369392226, reg_alpha=0.0 will be ignored. Current value: lambda_l1=0.00025748007369392226\n",
      "[LightGBM] [Warning] lambda_l2 is set=0.1171143877312783, reg_lambda=0.0 will be ignored. Current value: lambda_l2=0.1171143877312783\n",
      "[LightGBM] [Warning] lambda_l1 is set=0.00025748007369392226, reg_alpha=0.0 will be ignored. Current value: lambda_l1=0.00025748007369392226\n",
      "[LightGBM] [Warning] lambda_l2 is set=0.1171143877312783, reg_lambda=0.0 will be ignored. Current value: lambda_l2=0.1171143877312783\n",
      "[LightGBM] [Warning] lambda_l1 is set=0.00025748007369392226, reg_alpha=0.0 will be ignored. Current value: lambda_l1=0.00025748007369392226\n",
      "[LightGBM] [Warning] lambda_l2 is set=0.1171143877312783, reg_lambda=0.0 will be ignored. Current value: lambda_l2=0.1171143877312783\n",
      "[LightGBM] [Warning] lambda_l1 is set=0.00025748007369392226, reg_alpha=0.0 will be ignored. Current value: lambda_l1=0.00025748007369392226\n",
      "[LightGBM] [Warning] lambda_l2 is set=0.1171143877312783, reg_lambda=0.0 will be ignored. Current value: lambda_l2=0.1171143877312783\n",
      "[LightGBM] [Warning] lambda_l1 is set=0.00025748007369392226, reg_alpha=0.0 will be ignored. Current value: lambda_l1=0.00025748007369392226\n",
      "[LightGBM] [Warning] lambda_l2 is set=0.1171143877312783, reg_lambda=0.0 will be ignored. Current value: lambda_l2=0.1171143877312783\n",
      "[LightGBM] [Warning] lambda_l1 is set=0.00025748007369392226, reg_alpha=0.0 will be ignored. Current value: lambda_l1=0.00025748007369392226\n",
      "[LightGBM] [Warning] lambda_l2 is set=0.1171143877312783, reg_lambda=0.0 will be ignored. Current value: lambda_l2=0.1171143877312783\n"
     ]
    },
    {
     "name": "stderr",
     "output_type": "stream",
     "text": [
      "[I 2024-12-07 18:39:02,389] Trial 27 finished with value: 0.8447878118383504 and parameters: {'learning_rate': 0.10710608351704745, 'max_depth': 6, 'num_leaves': 985, 'n_estimators': 578, 'min_child_samples': 61, 'subsample': 0.8659450625311218, 'colsample_bytree': 0.5412692504311626, 'lambda_l1': 0.00025748007369392226, 'lambda_l2': 0.1171143877312783}. Best is trial 14 with value: 0.8473030338896123.\n"
     ]
    },
    {
     "name": "stdout",
     "output_type": "stream",
     "text": [
      "[LightGBM] [Warning] lambda_l1 is set=0.00016723466011908268, reg_alpha=0.0 will be ignored. Current value: lambda_l1=0.00016723466011908268\n",
      "[LightGBM] [Warning] lambda_l2 is set=0.13270460315610808, reg_lambda=0.0 will be ignored. Current value: lambda_l2=0.13270460315610808\n",
      "[LightGBM] [Warning] lambda_l1 is set=0.00016723466011908268, reg_alpha=0.0 will be ignored. Current value: lambda_l1=0.00016723466011908268\n",
      "[LightGBM] [Warning] lambda_l2 is set=0.13270460315610808, reg_lambda=0.0 will be ignored. Current value: lambda_l2=0.13270460315610808\n",
      "[LightGBM] [Warning] lambda_l1 is set=0.00016723466011908268, reg_alpha=0.0 will be ignored. Current value: lambda_l1=0.00016723466011908268\n",
      "[LightGBM] [Warning] lambda_l2 is set=0.13270460315610808, reg_lambda=0.0 will be ignored. Current value: lambda_l2=0.13270460315610808\n",
      "[LightGBM] [Warning] lambda_l1 is set=0.00016723466011908268, reg_alpha=0.0 will be ignored. Current value: lambda_l1=0.00016723466011908268\n",
      "[LightGBM] [Warning] lambda_l2 is set=0.13270460315610808, reg_lambda=0.0 will be ignored. Current value: lambda_l2=0.13270460315610808\n",
      "[LightGBM] [Warning] lambda_l1 is set=0.00016723466011908268, reg_alpha=0.0 will be ignored. Current value: lambda_l1=0.00016723466011908268\n",
      "[LightGBM] [Warning] lambda_l2 is set=0.13270460315610808, reg_lambda=0.0 will be ignored. Current value: lambda_l2=0.13270460315610808\n",
      "[LightGBM] [Warning] lambda_l1 is set=0.00016723466011908268, reg_alpha=0.0 will be ignored. Current value: lambda_l1=0.00016723466011908268\n",
      "[LightGBM] [Warning] lambda_l2 is set=0.13270460315610808, reg_lambda=0.0 will be ignored. Current value: lambda_l2=0.13270460315610808\n",
      "[LightGBM] [Warning] lambda_l1 is set=0.00016723466011908268, reg_alpha=0.0 will be ignored. Current value: lambda_l1=0.00016723466011908268\n",
      "[LightGBM] [Warning] lambda_l2 is set=0.13270460315610808, reg_lambda=0.0 will be ignored. Current value: lambda_l2=0.13270460315610808\n"
     ]
    },
    {
     "name": "stderr",
     "output_type": "stream",
     "text": [
      "[I 2024-12-07 18:39:09,609] Trial 28 finished with value: 0.8204554122118332 and parameters: {'learning_rate': 0.08787989666226396, 'max_depth': 7, 'num_leaves': 975, 'n_estimators': 573, 'min_child_samples': 60, 'subsample': 0.7958063401217346, 'colsample_bytree': 0.6514987002703406, 'lambda_l1': 0.00016723466011908268, 'lambda_l2': 0.13270460315610808}. Best is trial 14 with value: 0.8473030338896123.\n"
     ]
    },
    {
     "name": "stdout",
     "output_type": "stream",
     "text": [
      "[LightGBM] [Warning] lambda_l1 is set=0.00031166314116054674, reg_alpha=0.0 will be ignored. Current value: lambda_l1=0.00031166314116054674\n",
      "[LightGBM] [Warning] lambda_l2 is set=0.6011004821628853, reg_lambda=0.0 will be ignored. Current value: lambda_l2=0.6011004821628853\n",
      "[LightGBM] [Warning] lambda_l1 is set=0.00031166314116054674, reg_alpha=0.0 will be ignored. Current value: lambda_l1=0.00031166314116054674\n",
      "[LightGBM] [Warning] lambda_l2 is set=0.6011004821628853, reg_lambda=0.0 will be ignored. Current value: lambda_l2=0.6011004821628853\n",
      "[LightGBM] [Warning] lambda_l1 is set=0.00031166314116054674, reg_alpha=0.0 will be ignored. Current value: lambda_l1=0.00031166314116054674\n",
      "[LightGBM] [Warning] lambda_l2 is set=0.6011004821628853, reg_lambda=0.0 will be ignored. Current value: lambda_l2=0.6011004821628853\n",
      "[LightGBM] [Warning] lambda_l1 is set=0.00031166314116054674, reg_alpha=0.0 will be ignored. Current value: lambda_l1=0.00031166314116054674\n",
      "[LightGBM] [Warning] lambda_l2 is set=0.6011004821628853, reg_lambda=0.0 will be ignored. Current value: lambda_l2=0.6011004821628853\n",
      "[LightGBM] [Warning] lambda_l1 is set=0.00031166314116054674, reg_alpha=0.0 will be ignored. Current value: lambda_l1=0.00031166314116054674\n",
      "[LightGBM] [Warning] lambda_l2 is set=0.6011004821628853, reg_lambda=0.0 will be ignored. Current value: lambda_l2=0.6011004821628853\n",
      "[LightGBM] [Warning] lambda_l1 is set=0.00031166314116054674, reg_alpha=0.0 will be ignored. Current value: lambda_l1=0.00031166314116054674\n",
      "[LightGBM] [Warning] lambda_l2 is set=0.6011004821628853, reg_lambda=0.0 will be ignored. Current value: lambda_l2=0.6011004821628853\n",
      "[LightGBM] [Warning] lambda_l1 is set=0.00031166314116054674, reg_alpha=0.0 will be ignored. Current value: lambda_l1=0.00031166314116054674\n",
      "[LightGBM] [Warning] lambda_l2 is set=0.6011004821628853, reg_lambda=0.0 will be ignored. Current value: lambda_l2=0.6011004821628853\n"
     ]
    },
    {
     "name": "stderr",
     "output_type": "stream",
     "text": [
      "[I 2024-12-07 18:39:12,844] Trial 29 finished with value: 0.8080586788706093 and parameters: {'learning_rate': 0.10563327401816913, 'max_depth': 3, 'num_leaves': 285, 'n_estimators': 489, 'min_child_samples': 55, 'subsample': 0.8608591618486459, 'colsample_bytree': 0.552672815109823, 'lambda_l1': 0.00031166314116054674, 'lambda_l2': 0.6011004821628853}. Best is trial 14 with value: 0.8473030338896123.\n"
     ]
    },
    {
     "name": "stdout",
     "output_type": "stream",
     "text": [
      "Лучшие параметры: {'learning_rate': 0.10696883335343621, 'max_depth': 4, 'num_leaves': 933, 'n_estimators': 609, 'min_child_samples': 73, 'subsample': 0.8263374541164522, 'colsample_bytree': 0.5271035377802693, 'lambda_l1': 0.043995181994689214, 'lambda_l2': 0.08959455853014209}\n",
      "[LightGBM] [Warning] lambda_l1 is set=0.043995181994689214, reg_alpha=0.0 will be ignored. Current value: lambda_l1=0.043995181994689214\n",
      "[LightGBM] [Warning] lambda_l2 is set=0.08959455853014209, reg_lambda=0.0 will be ignored. Current value: lambda_l2=0.08959455853014209\n",
      "Предсказание создано!\n"
     ]
    }
   ],
   "source": [
    "# Обозначаем действия при запуске кода\n",
    "if __name__ == \"__main__\":\n",
    "    # Запускаем модель\n",
    "    model()"
   ]
  }
 ],
 "metadata": {
  "kernelspec": {
   "display_name": "Python 3 (ipykernel)",
   "language": "python",
   "name": "python3"
  },
  "language_info": {
   "codemirror_mode": {
    "name": "ipython",
    "version": 3
   },
   "file_extension": ".py",
   "mimetype": "text/x-python",
   "name": "python",
   "nbconvert_exporter": "python",
   "pygments_lexer": "ipython3",
   "version": "3.11.2"
  }
 },
 "nbformat": 4,
 "nbformat_minor": 5
}
